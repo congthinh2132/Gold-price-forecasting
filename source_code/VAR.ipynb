{
  "nbformat": 4,
  "nbformat_minor": 0,
  "metadata": {
    "colab": {
      "provenance": [],
      "collapsed_sections": [
        "ttSH3mP4feyH",
        "D28kWxpqg2NM",
        "uCsGcQ3Eev8f",
        "l5iVQDzJFCtR",
        "VWFtdtZZcvfl"
      ],
      "toc_visible": true
    },
    "kernelspec": {
      "name": "python3",
      "display_name": "Python 3"
    },
    "language_info": {
      "name": "python"
    }
  },
  "cells": [
    {
      "cell_type": "code",
      "source": [
        "!pip install pmdarima"
      ],
      "metadata": {
        "colab": {
          "base_uri": "https://localhost:8080/"
        },
        "id": "8UauiNrx9jDR",
        "outputId": "5d9f6c82-a8ec-4441-fe80-bfbe4ca8a2c7"
      },
      "execution_count": null,
      "outputs": [
        {
          "output_type": "stream",
          "name": "stdout",
          "text": [
            "Looking in indexes: https://pypi.org/simple, https://us-python.pkg.dev/colab-wheels/public/simple/\n",
            "Collecting pmdarima\n",
            "  Downloading pmdarima-2.0.3-cp310-cp310-manylinux_2_17_x86_64.manylinux2014_x86_64.manylinux_2_28_x86_64.whl (1.8 MB)\n",
            "\u001b[2K     \u001b[90m━━━━━━━━━━━━━━━━━━━━━━━━━━━━━━━━━━━━━━━━\u001b[0m \u001b[32m1.8/1.8 MB\u001b[0m \u001b[31m40.8 MB/s\u001b[0m eta \u001b[36m0:00:00\u001b[0m\n",
            "\u001b[?25hRequirement already satisfied: joblib>=0.11 in /usr/local/lib/python3.10/dist-packages (from pmdarima) (1.2.0)\n",
            "Requirement already satisfied: Cython!=0.29.18,!=0.29.31,>=0.29 in /usr/local/lib/python3.10/dist-packages (from pmdarima) (0.29.34)\n",
            "Requirement already satisfied: numpy>=1.21.2 in /usr/local/lib/python3.10/dist-packages (from pmdarima) (1.22.4)\n",
            "Requirement already satisfied: pandas>=0.19 in /usr/local/lib/python3.10/dist-packages (from pmdarima) (1.5.3)\n",
            "Requirement already satisfied: scikit-learn>=0.22 in /usr/local/lib/python3.10/dist-packages (from pmdarima) (1.2.2)\n",
            "Requirement already satisfied: scipy>=1.3.2 in /usr/local/lib/python3.10/dist-packages (from pmdarima) (1.10.1)\n",
            "Requirement already satisfied: statsmodels>=0.13.2 in /usr/local/lib/python3.10/dist-packages (from pmdarima) (0.13.5)\n",
            "Requirement already satisfied: urllib3 in /usr/local/lib/python3.10/dist-packages (from pmdarima) (1.26.15)\n",
            "Requirement already satisfied: setuptools!=50.0.0,>=38.6.0 in /usr/local/lib/python3.10/dist-packages (from pmdarima) (67.7.2)\n",
            "Requirement already satisfied: python-dateutil>=2.8.1 in /usr/local/lib/python3.10/dist-packages (from pandas>=0.19->pmdarima) (2.8.2)\n",
            "Requirement already satisfied: pytz>=2020.1 in /usr/local/lib/python3.10/dist-packages (from pandas>=0.19->pmdarima) (2022.7.1)\n",
            "Requirement already satisfied: threadpoolctl>=2.0.0 in /usr/local/lib/python3.10/dist-packages (from scikit-learn>=0.22->pmdarima) (3.1.0)\n",
            "Requirement already satisfied: patsy>=0.5.2 in /usr/local/lib/python3.10/dist-packages (from statsmodels>=0.13.2->pmdarima) (0.5.3)\n",
            "Requirement already satisfied: packaging>=21.3 in /usr/local/lib/python3.10/dist-packages (from statsmodels>=0.13.2->pmdarima) (23.1)\n",
            "Requirement already satisfied: six in /usr/local/lib/python3.10/dist-packages (from patsy>=0.5.2->statsmodels>=0.13.2->pmdarima) (1.16.0)\n",
            "Installing collected packages: pmdarima\n",
            "Successfully installed pmdarima-2.0.3\n"
          ]
        }
      ]
    },
    {
      "cell_type": "code",
      "source": [
        "from google.colab import drive\n",
        "drive.mount('/content/drive')"
      ],
      "metadata": {
        "colab": {
          "base_uri": "https://localhost:8080/"
        },
        "id": "sPsx8_RDekpL",
        "outputId": "7d3a1fbe-d2b7-4765-b751-ed7a62ab63b9"
      },
      "execution_count": 3,
      "outputs": [
        {
          "output_type": "stream",
          "name": "stdout",
          "text": [
            "Mounted at /content/drive\n"
          ]
        }
      ]
    },
    {
      "cell_type": "markdown",
      "source": [
        "# VAR"
      ],
      "metadata": {
        "id": "lFRp7uF8_LkW"
      }
    },
    {
      "cell_type": "markdown",
      "source": [
        "## Price_1"
      ],
      "metadata": {
        "id": "LqDPjk9wfaL2"
      }
    },
    {
      "cell_type": "markdown",
      "source": [
        "### Price_1 6:3:1"
      ],
      "metadata": {
        "id": "ttSH3mP4feyH"
      }
    },
    {
      "cell_type": "code",
      "source": [
        "# 1. Các thư viện cần thiết\n",
        "import numpy as np\n",
        "import pandas as pd\n",
        "import matplotlib.pyplot as plt\n",
        "from sklearn.preprocessing import MinMaxScaler\n",
        "from statsmodels.tsa.vector_ar.var_model import VAR"
      ],
      "metadata": {
        "id": "tvogTgdDfj-z"
      },
      "execution_count": 56,
      "outputs": []
    },
    {
      "cell_type": "code",
      "source": [
        "# 2. Đọc file dữ liệu\n",
        "df = pd.read_csv('/content/drive/MyDrive/Study/IS403.N22.HTCL/final project/DATASET/Gold_Price_1.csv')\n",
        "df['Index'] = range(2680)"
      ],
      "metadata": {
        "id": "5NonniOQgRLj"
      },
      "execution_count": 57,
      "outputs": []
    },
    {
      "cell_type": "code",
      "source": [
        "df = df[['Index', 'Price (VND)']]\n",
        "df = df.dropna() # Drop missing values\n",
        "df = df.reset_index(drop=True) # Reset the index\n",
        "df.head()"
      ],
      "metadata": {
        "colab": {
          "base_uri": "https://localhost:8080/",
          "height": 206
        },
        "id": "hSSjRI0LgI3S",
        "outputId": "cfa5b9fc-a946-4e1b-a181-d0fc83f59af0"
      },
      "execution_count": 58,
      "outputs": [
        {
          "output_type": "execute_result",
          "data": {
            "text/plain": [
              "   Index  Price (VND)\n",
              "0      0  32202288.50\n",
              "1      1  33607538.00\n",
              "2      2  33923003.00\n",
              "3      3  33628569.00\n",
              "4      4  34000652.75"
            ],
            "text/html": [
              "\n",
              "  <div id=\"df-8c231537-ba9b-4c40-8f32-a84a6456cd31\">\n",
              "    <div class=\"colab-df-container\">\n",
              "      <div>\n",
              "<style scoped>\n",
              "    .dataframe tbody tr th:only-of-type {\n",
              "        vertical-align: middle;\n",
              "    }\n",
              "\n",
              "    .dataframe tbody tr th {\n",
              "        vertical-align: top;\n",
              "    }\n",
              "\n",
              "    .dataframe thead th {\n",
              "        text-align: right;\n",
              "    }\n",
              "</style>\n",
              "<table border=\"1\" class=\"dataframe\">\n",
              "  <thead>\n",
              "    <tr style=\"text-align: right;\">\n",
              "      <th></th>\n",
              "      <th>Index</th>\n",
              "      <th>Price (VND)</th>\n",
              "    </tr>\n",
              "  </thead>\n",
              "  <tbody>\n",
              "    <tr>\n",
              "      <th>0</th>\n",
              "      <td>0</td>\n",
              "      <td>32202288.50</td>\n",
              "    </tr>\n",
              "    <tr>\n",
              "      <th>1</th>\n",
              "      <td>1</td>\n",
              "      <td>33607538.00</td>\n",
              "    </tr>\n",
              "    <tr>\n",
              "      <th>2</th>\n",
              "      <td>2</td>\n",
              "      <td>33923003.00</td>\n",
              "    </tr>\n",
              "    <tr>\n",
              "      <th>3</th>\n",
              "      <td>3</td>\n",
              "      <td>33628569.00</td>\n",
              "    </tr>\n",
              "    <tr>\n",
              "      <th>4</th>\n",
              "      <td>4</td>\n",
              "      <td>34000652.75</td>\n",
              "    </tr>\n",
              "  </tbody>\n",
              "</table>\n",
              "</div>\n",
              "      <button class=\"colab-df-convert\" onclick=\"convertToInteractive('df-8c231537-ba9b-4c40-8f32-a84a6456cd31')\"\n",
              "              title=\"Convert this dataframe to an interactive table.\"\n",
              "              style=\"display:none;\">\n",
              "        \n",
              "  <svg xmlns=\"http://www.w3.org/2000/svg\" height=\"24px\"viewBox=\"0 0 24 24\"\n",
              "       width=\"24px\">\n",
              "    <path d=\"M0 0h24v24H0V0z\" fill=\"none\"/>\n",
              "    <path d=\"M18.56 5.44l.94 2.06.94-2.06 2.06-.94-2.06-.94-.94-2.06-.94 2.06-2.06.94zm-11 1L8.5 8.5l.94-2.06 2.06-.94-2.06-.94L8.5 2.5l-.94 2.06-2.06.94zm10 10l.94 2.06.94-2.06 2.06-.94-2.06-.94-.94-2.06-.94 2.06-2.06.94z\"/><path d=\"M17.41 7.96l-1.37-1.37c-.4-.4-.92-.59-1.43-.59-.52 0-1.04.2-1.43.59L10.3 9.45l-7.72 7.72c-.78.78-.78 2.05 0 2.83L4 21.41c.39.39.9.59 1.41.59.51 0 1.02-.2 1.41-.59l7.78-7.78 2.81-2.81c.8-.78.8-2.07 0-2.86zM5.41 20L4 18.59l7.72-7.72 1.47 1.35L5.41 20z\"/>\n",
              "  </svg>\n",
              "      </button>\n",
              "      \n",
              "  <style>\n",
              "    .colab-df-container {\n",
              "      display:flex;\n",
              "      flex-wrap:wrap;\n",
              "      gap: 12px;\n",
              "    }\n",
              "\n",
              "    .colab-df-convert {\n",
              "      background-color: #E8F0FE;\n",
              "      border: none;\n",
              "      border-radius: 50%;\n",
              "      cursor: pointer;\n",
              "      display: none;\n",
              "      fill: #1967D2;\n",
              "      height: 32px;\n",
              "      padding: 0 0 0 0;\n",
              "      width: 32px;\n",
              "    }\n",
              "\n",
              "    .colab-df-convert:hover {\n",
              "      background-color: #E2EBFA;\n",
              "      box-shadow: 0px 1px 2px rgba(60, 64, 67, 0.3), 0px 1px 3px 1px rgba(60, 64, 67, 0.15);\n",
              "      fill: #174EA6;\n",
              "    }\n",
              "\n",
              "    [theme=dark] .colab-df-convert {\n",
              "      background-color: #3B4455;\n",
              "      fill: #D2E3FC;\n",
              "    }\n",
              "\n",
              "    [theme=dark] .colab-df-convert:hover {\n",
              "      background-color: #434B5C;\n",
              "      box-shadow: 0px 1px 3px 1px rgba(0, 0, 0, 0.15);\n",
              "      filter: drop-shadow(0px 1px 2px rgba(0, 0, 0, 0.3));\n",
              "      fill: #FFFFFF;\n",
              "    }\n",
              "  </style>\n",
              "\n",
              "      <script>\n",
              "        const buttonEl =\n",
              "          document.querySelector('#df-8c231537-ba9b-4c40-8f32-a84a6456cd31 button.colab-df-convert');\n",
              "        buttonEl.style.display =\n",
              "          google.colab.kernel.accessAllowed ? 'block' : 'none';\n",
              "\n",
              "        async function convertToInteractive(key) {\n",
              "          const element = document.querySelector('#df-8c231537-ba9b-4c40-8f32-a84a6456cd31');\n",
              "          const dataTable =\n",
              "            await google.colab.kernel.invokeFunction('convertToInteractive',\n",
              "                                                     [key], {});\n",
              "          if (!dataTable) return;\n",
              "\n",
              "          const docLinkHtml = 'Like what you see? Visit the ' +\n",
              "            '<a target=\"_blank\" href=https://colab.research.google.com/notebooks/data_table.ipynb>data table notebook</a>'\n",
              "            + ' to learn more about interactive tables.';\n",
              "          element.innerHTML = '';\n",
              "          dataTable['output_type'] = 'display_data';\n",
              "          await google.colab.output.renderOutput(dataTable, element);\n",
              "          const docLink = document.createElement('div');\n",
              "          docLink.innerHTML = docLinkHtml;\n",
              "          element.appendChild(docLink);\n",
              "        }\n",
              "      </script>\n",
              "    </div>\n",
              "  </div>\n",
              "  "
            ]
          },
          "metadata": {},
          "execution_count": 58
        }
      ]
    },
    {
      "cell_type": "code",
      "source": [
        "# Split the data into training, testing, and validation sets\n",
        "train_size = int(0.6 * len(df))\n",
        "test_size = int(0.3 * len(df))\n",
        "val_size = len(df) - train_size - test_size\n",
        "\n",
        "train_data = df[:train_size]\n",
        "test_data = df[train_size:train_size+test_size]\n",
        "val_data = df[train_size+test_size:]"
      ],
      "metadata": {
        "id": "qrg9fzDbf9yz"
      },
      "execution_count": 59,
      "outputs": []
    },
    {
      "cell_type": "code",
      "source": [
        "# 3. Huấn luyện mô hình VAR\n",
        "model = VAR(train_data)\n",
        "\n",
        "# Tìm ra số lượng lag tối ưu cho mô hình\n",
        "lag_order = model.select_order(maxlags=12)\n",
        "print(lag_order.summary())"
      ],
      "metadata": {
        "colab": {
          "base_uri": "https://localhost:8080/"
        },
        "id": "McJ9Mb2mf-vA",
        "outputId": "f462348b-aa5a-4293-c7df-7d3276b35766"
      },
      "execution_count": 60,
      "outputs": [
        {
          "output_type": "stream",
          "name": "stdout",
          "text": [
            " VAR Order Selection (* highlights the minimums)  \n",
            "==================================================\n",
            "       AIC         BIC         FPE         HQIC   \n",
            "--------------------------------------------------\n",
            "0        42.01       42.01   1.748e+18       42.01\n",
            "1       -13.32      -13.30   1.646e-06      -13.31\n",
            "2       -10.10      -10.07   4.093e-05      -10.09\n",
            "3       -13.43      -13.38   1.477e-06      -13.41\n",
            "4       -12.60      -12.54   3.372e-06      -12.58\n",
            "5       -14.67      -14.60   4.234e-07      -14.65\n",
            "6       -12.41      -12.32   4.071e-06      -12.38\n",
            "7       -10.93      -10.83   1.798e-05      -10.89\n",
            "8      -15.41*     -15.30*  2.021e-07*     -15.37*\n",
            "9       -11.39      -11.26   1.135e-05      -11.34\n",
            "10      -11.45      -11.31   1.061e-05      -11.40\n",
            "11      -12.69      -12.53   3.086e-06      -12.63\n",
            "12      -10.49      -10.33   2.772e-05      -10.43\n",
            "--------------------------------------------------\n"
          ]
        }
      ]
    },
    {
      "cell_type": "code",
      "source": [
        "# Fit mô hình với số lượng lag tối ưu\n",
        "model_fit = model.fit(maxlags=lag_order.aic, ic='aic')"
      ],
      "metadata": {
        "id": "euDnk7xzf_yT"
      },
      "execution_count": 61,
      "outputs": []
    },
    {
      "cell_type": "code",
      "source": [
        "print(model_fit.summary())"
      ],
      "metadata": {
        "colab": {
          "base_uri": "https://localhost:8080/"
        },
        "id": "DFjkQygh35sS",
        "outputId": "2fc8b7e9-7b84-48de-e954-7fffb825746b"
      },
      "execution_count": 62,
      "outputs": [
        {
          "output_type": "stream",
          "name": "stdout",
          "text": [
            "  Summary of Regression Results   \n",
            "==================================\n",
            "Model:                         VAR\n",
            "Method:                        OLS\n",
            "Date:           Wed, 21, Jun, 2023\n",
            "Time:                     03:57:01\n",
            "--------------------------------------------------------------------\n",
            "No. of Equations:         2.00000    BIC:                   -10.7628\n",
            "Nobs:                     1603.00    HQIC:                  -10.8092\n",
            "Log likelihood:           4158.47    FPE:                1.96652e-05\n",
            "AIC:                     -10.8367    Det(Omega_mle):     1.93981e-05\n",
            "--------------------------------------------------------------------\n",
            "Results for equation Index\n",
            "=================================================================================\n",
            "                    coefficient       std. error           t-stat            prob\n",
            "---------------------------------------------------------------------------------\n",
            "const                  0.272727              NAN              NAN             NAN\n",
            "L1.Index               0.745455              NAN              NAN             NAN\n",
            "L1.Price (VND)         0.000000         0.000000            0.040           0.968\n",
            "L2.Index               0.472727              NAN              NAN             NAN\n",
            "L2.Price (VND)        -0.000000         0.000000           -0.029           0.977\n",
            "L3.Index               0.200000              NAN              NAN             NAN\n",
            "L3.Price (VND)        -0.000000         0.000000           -0.058           0.954\n",
            "L4.Index              -0.072727         0.000034        -2133.972           0.000\n",
            "L4.Price (VND)         0.000000         0.000000            0.029           0.977\n",
            "L5.Index              -0.345455              NAN              NAN             NAN\n",
            "L5.Price (VND)        -0.000000         0.000000           -0.041           0.968\n",
            "=================================================================================\n",
            "\n",
            "Results for equation Price (VND)\n",
            "==================================================================================\n",
            "                    coefficient        std. error           t-stat            prob\n",
            "----------------------------------------------------------------------------------\n",
            "const              10956.851290               NAN              NAN             NAN\n",
            "L1.Index           21913.559488               NAN              NAN             NAN\n",
            "L1.Price (VND)         0.990240          0.025051           39.528           0.000\n",
            "L2.Index           10956.708014               NAN              NAN             NAN\n",
            "L2.Price (VND)        -0.043327          0.035235           -1.230           0.219\n",
            "L3.Index              -0.143276               NAN              NAN             NAN\n",
            "L3.Price (VND)         0.070655          0.035184            2.008           0.045\n",
            "L4.Index          -10956.994566  621954524.871823           -0.000           1.000\n",
            "L4.Price (VND)        -0.022178          0.035136           -0.631           0.528\n",
            "L5.Index          -21913.845856               NAN              NAN             NAN\n",
            "L5.Price (VND)         0.000369          0.024864            0.015           0.988\n",
            "==================================================================================\n",
            "\n",
            "Correlation matrix of residuals\n",
            "                  Index  Price (VND)\n",
            "Index          1.000000     0.000001\n",
            "Price (VND)    0.000001     1.000000\n",
            "\n",
            "\n",
            "\n"
          ]
        },
        {
          "output_type": "stream",
          "name": "stderr",
          "text": [
            "/usr/local/lib/python3.10/dist-packages/statsmodels/tsa/vector_ar/var_model.py:1545: RuntimeWarning: invalid value encountered in sqrt\n",
            "  stderr = np.sqrt(np.diag(self.cov_params()))\n"
          ]
        }
      ]
    },
    {
      "cell_type": "code",
      "source": [
        "# 4. Quá trình testing\n",
        "x_test = np.array(test_data.index).reshape(-1, 1)\n",
        "y_test = np.array(test_data[['Index', 'Price (VND)']])\n",
        "y_pred = model_fit.forecast(y_test, len(y_test))\n",
        "\n",
        "# 5. Quá trình Validate\n",
        "x_val= np.array(val_data.index).reshape(-1, 1)\n",
        "y_val = np.array(val_data[['Index', 'Price (VND)']])\n",
        "y_pred_val =  model_fit.forecast(y_val, len(y_val))"
      ],
      "metadata": {
        "id": "QjCeCTBjgApg"
      },
      "execution_count": 63,
      "outputs": []
    },
    {
      "cell_type": "code",
      "source": [
        "# 6. Quá trình tạo index predict 30 ngày tiếp theo\n",
        "last_index =  df.index[-1]\n",
        "last_data = pd.RangeIndex(start=last_index, stop=last_index+30, step=1)\n",
        "\n",
        "# Create an array of 30 consecutive integers starting from last_index\n",
        "x_next_30_days = np.array(range(last_index+1, last_index+31)).reshape(-1, 1)\n",
        "\n",
        "# Predict the closing prices for the next 30 days\n",
        "y_next_30_days = model_fit.forecast(df.values, 30)\n",
        "\n",
        "# Print the predicted closing prices for the next 30 days\n",
        "print('Predicted closing prices for the next 30 days:')\n",
        "print([round(x[1],2) for x in y_next_30_days])"
      ],
      "metadata": {
        "colab": {
          "base_uri": "https://localhost:8080/"
        },
        "id": "8y8GteZUgCdx",
        "outputId": "217fe3e3-0fcd-49f0-ccaa-dd4274f23eb2"
      },
      "execution_count": 64,
      "outputs": [
        {
          "output_type": "stream",
          "name": "stdout",
          "text": [
            "Predicted closing prices for the next 30 days:\n",
            "[44304168.89, 44226092.19, 44165937.26, 44099499.11, 44032651.91, 43966786.86, 43901071.44, 43835578.68, 43770376.08, 43705439.79, 43640767.43, 43576360.5, 43512217.43, 43448336.99, 43384718.19, 43321359.96, 43258261.2, 43195420.87, 43132837.89, 43070511.21, 43008439.79, 42946622.56, 42885058.49, 42823746.54, 42762685.66, 42701874.84, 42641313.05, 42580999.25, 42520932.44, 42461111.6]\n"
          ]
        }
      ]
    },
    {
      "cell_type": "code",
      "source": [
        "# 7. Đánh giá độ chính xác validate, test\n",
        "from sklearn.metrics import mean_absolute_percentage_error as MAPE\n",
        "from sklearn.metrics import mean_absolute_error as MAE\n",
        "from sklearn.metrics import mean_squared_error as MSE\n",
        "\n",
        "valid_rmse = np.sqrt(MSE(y_pred_val, y_val))\n",
        "test_rmse = np.sqrt(MSE(y_test, y_pred))\n",
        "valid_mape = MAPE(y_pred_val, y_val)*100\n",
        "test_mape = MAPE(y_test, y_pred)*100\n",
        "valid_mae = MAE(y_pred_val, y_val)\n",
        "test_mae = MAE(y_test, y_pred)\n",
        "\n",
        "print('Validation RMSE:', valid_rmse)\n",
        "print('Validation MAPE:', valid_mape)\n",
        "print('Validation MAE:', valid_mae)\n",
        "print('Testing RMSE:', test_rmse)\n",
        "print('Testing MAPE:', test_mape)\n",
        "print('Testing MAE:', test_mae)"
      ],
      "metadata": {
        "colab": {
          "base_uri": "https://localhost:8080/"
        },
        "id": "ABxRTP3YgCY6",
        "outputId": "c1b8a792-6167-4e79-a124-0cee96d35b34"
      },
      "execution_count": 65,
      "outputs": [
        {
          "output_type": "stream",
          "name": "stdout",
          "text": [
            "Validation RMSE: 3768091.7211323753\n",
            "Validation MAPE: 10.818700550135645\n",
            "Validation MAE: 2172839.328211826\n",
            "Testing RMSE: 6352238.055758362\n",
            "Testing MAPE: 30.55383569550514\n",
            "Testing MAE: 3807911.7602429665\n"
          ]
        }
      ]
    },
    {
      "cell_type": "code",
      "source": [
        "# 8.Vẽ hình\n",
        "plt.plot(train_data.index, train_data['Price (VND)'])\n",
        "plt.plot(test_data.index, test_data['Price (VND)'])\n",
        "plt.plot(test_data.index, y_pred)\n",
        "plt.plot(val_data.index, y_pred_val)\n",
        "plt.plot(last_data,y_next_30_days)\n",
        "plt.legend(['Train', 'Test', 'Predictions','Validate','Next30Day'])\n",
        "plt.show()"
      ],
      "metadata": {
        "colab": {
          "base_uri": "https://localhost:8080/",
          "height": 445
        },
        "id": "lOKgZODQFeXe",
        "outputId": "2873caa3-07da-4167-f777-abc31bf4ea85"
      },
      "execution_count": 66,
      "outputs": [
        {
          "output_type": "display_data",
          "data": {
            "text/plain": [
              "<Figure size 640x480 with 1 Axes>"
            ],
            "image/png": "[encoded data removed]"
          },
          "metadata": {}
        }
      ]
    },
    {
      "cell_type": "markdown",
      "source": [
        "### Price_1 7:2:1"
      ],
      "metadata": {
        "id": "D28kWxpqg2NM"
      }
    },
    {
      "cell_type": "code",
      "source": [
        "# 1. Các thư viện cần thiết\n",
        "import numpy as np\n",
        "import pandas as pd\n",
        "import matplotlib.pyplot as plt\n",
        "from sklearn.preprocessing import MinMaxScaler\n",
        "from statsmodels.tsa.vector_ar.var_model import VAR"
      ],
      "metadata": {
        "id": "VMujUJ-bg2NS"
      },
      "execution_count": 67,
      "outputs": []
    },
    {
      "cell_type": "code",
      "source": [
        "# 2. Đọc file dữ liệu\n",
        "df = pd.read_csv('/content/drive/MyDrive/Study/IS403.N22.HTCL/final project/DATASET/Gold_Price_1.csv')\n",
        "df['Index'] = range(2680)"
      ],
      "metadata": {
        "id": "Z-5c1Skqg2NS"
      },
      "execution_count": 68,
      "outputs": []
    },
    {
      "cell_type": "code",
      "source": [
        "df = df[['Index', 'Price (VND)']]\n",
        "df = df.dropna() # Drop missing values\n",
        "df = df.reset_index(drop=True) # Reset the index\n",
        "df.head()"
      ],
      "metadata": {
        "colab": {
          "base_uri": "https://localhost:8080/",
          "height": 206
        },
        "outputId": "81974b3c-216b-4bfd-d08a-37bb2a6f2343",
        "id": "0W2IHW-og2NS"
      },
      "execution_count": 69,
      "outputs": [
        {
          "output_type": "execute_result",
          "data": {
            "text/plain": [
              "   Index  Price (VND)\n",
              "0      0  32202288.50\n",
              "1      1  33607538.00\n",
              "2      2  33923003.00\n",
              "3      3  33628569.00\n",
              "4      4  34000652.75"
            ],
            "text/html": [
              "\n",
              "  <div id=\"df-e8458097-6027-42d2-b445-5cb65a62b532\">\n",
              "    <div class=\"colab-df-container\">\n",
              "      <div>\n",
              "<style scoped>\n",
              "    .dataframe tbody tr th:only-of-type {\n",
              "        vertical-align: middle;\n",
              "    }\n",
              "\n",
              "    .dataframe tbody tr th {\n",
              "        vertical-align: top;\n",
              "    }\n",
              "\n",
              "    .dataframe thead th {\n",
              "        text-align: right;\n",
              "    }\n",
              "</style>\n",
              "<table border=\"1\" class=\"dataframe\">\n",
              "  <thead>\n",
              "    <tr style=\"text-align: right;\">\n",
              "      <th></th>\n",
              "      <th>Index</th>\n",
              "      <th>Price (VND)</th>\n",
              "    </tr>\n",
              "  </thead>\n",
              "  <tbody>\n",
              "    <tr>\n",
              "      <th>0</th>\n",
              "      <td>0</td>\n",
              "      <td>32202288.50</td>\n",
              "    </tr>\n",
              "    <tr>\n",
              "      <th>1</th>\n",
              "      <td>1</td>\n",
              "      <td>33607538.00</td>\n",
              "    </tr>\n",
              "    <tr>\n",
              "      <th>2</th>\n",
              "      <td>2</td>\n",
              "      <td>33923003.00</td>\n",
              "    </tr>\n",
              "    <tr>\n",
              "      <th>3</th>\n",
              "      <td>3</td>\n",
              "      <td>33628569.00</td>\n",
              "    </tr>\n",
              "    <tr>\n",
              "      <th>4</th>\n",
              "      <td>4</td>\n",
              "      <td>34000652.75</td>\n",
              "    </tr>\n",
              "  </tbody>\n",
              "</table>\n",
              "</div>\n",
              "      <button class=\"colab-df-convert\" onclick=\"convertToInteractive('df-e8458097-6027-42d2-b445-5cb65a62b532')\"\n",
              "              title=\"Convert this dataframe to an interactive table.\"\n",
              "              style=\"display:none;\">\n",
              "        \n",
              "  <svg xmlns=\"http://www.w3.org/2000/svg\" height=\"24px\"viewBox=\"0 0 24 24\"\n",
              "       width=\"24px\">\n",
              "    <path d=\"M0 0h24v24H0V0z\" fill=\"none\"/>\n",
              "    <path d=\"M18.56 5.44l.94 2.06.94-2.06 2.06-.94-2.06-.94-.94-2.06-.94 2.06-2.06.94zm-11 1L8.5 8.5l.94-2.06 2.06-.94-2.06-.94L8.5 2.5l-.94 2.06-2.06.94zm10 10l.94 2.06.94-2.06 2.06-.94-2.06-.94-.94-2.06-.94 2.06-2.06.94z\"/><path d=\"M17.41 7.96l-1.37-1.37c-.4-.4-.92-.59-1.43-.59-.52 0-1.04.2-1.43.59L10.3 9.45l-7.72 7.72c-.78.78-.78 2.05 0 2.83L4 21.41c.39.39.9.59 1.41.59.51 0 1.02-.2 1.41-.59l7.78-7.78 2.81-2.81c.8-.78.8-2.07 0-2.86zM5.41 20L4 18.59l7.72-7.72 1.47 1.35L5.41 20z\"/>\n",
              "  </svg>\n",
              "      </button>\n",
              "      \n",
              "  <style>\n",
              "    .colab-df-container {\n",
              "      display:flex;\n",
              "      flex-wrap:wrap;\n",
              "      gap: 12px;\n",
              "    }\n",
              "\n",
              "    .colab-df-convert {\n",
              "      background-color: #E8F0FE;\n",
              "      border: none;\n",
              "      border-radius: 50%;\n",
              "      cursor: pointer;\n",
              "      display: none;\n",
              "      fill: #1967D2;\n",
              "      height: 32px;\n",
              "      padding: 0 0 0 0;\n",
              "      width: 32px;\n",
              "    }\n",
              "\n",
              "    .colab-df-convert:hover {\n",
              "      background-color: #E2EBFA;\n",
              "      box-shadow: 0px 1px 2px rgba(60, 64, 67, 0.3), 0px 1px 3px 1px rgba(60, 64, 67, 0.15);\n",
              "      fill: #174EA6;\n",
              "    }\n",
              "\n",
              "    [theme=dark] .colab-df-convert {\n",
              "      background-color: #3B4455;\n",
              "      fill: #D2E3FC;\n",
              "    }\n",
              "\n",
              "    [theme=dark] .colab-df-convert:hover {\n",
              "      background-color: #434B5C;\n",
              "      box-shadow: 0px 1px 3px 1px rgba(0, 0, 0, 0.15);\n",
              "      filter: drop-shadow(0px 1px 2px rgba(0, 0, 0, 0.3));\n",
              "      fill: #FFFFFF;\n",
              "    }\n",
              "  </style>\n",
              "\n",
              "      <script>\n",
              "        const buttonEl =\n",
              "          document.querySelector('#df-e8458097-6027-42d2-b445-5cb65a62b532 button.colab-df-convert');\n",
              "        buttonEl.style.display =\n",
              "          google.colab.kernel.accessAllowed ? 'block' : 'none';\n",
              "\n",
              "        async function convertToInteractive(key) {\n",
              "          const element = document.querySelector('#df-e8458097-6027-42d2-b445-5cb65a62b532');\n",
              "          const dataTable =\n",
              "            await google.colab.kernel.invokeFunction('convertToInteractive',\n",
              "                                                     [key], {});\n",
              "          if (!dataTable) return;\n",
              "\n",
              "          const docLinkHtml = 'Like what you see? Visit the ' +\n",
              "            '<a target=\"_blank\" href=https://colab.research.google.com/notebooks/data_table.ipynb>data table notebook</a>'\n",
              "            + ' to learn more about interactive tables.';\n",
              "          element.innerHTML = '';\n",
              "          dataTable['output_type'] = 'display_data';\n",
              "          await google.colab.output.renderOutput(dataTable, element);\n",
              "          const docLink = document.createElement('div');\n",
              "          docLink.innerHTML = docLinkHtml;\n",
              "          element.appendChild(docLink);\n",
              "        }\n",
              "      </script>\n",
              "    </div>\n",
              "  </div>\n",
              "  "
            ]
          },
          "metadata": {},
          "execution_count": 69
        }
      ]
    },
    {
      "cell_type": "code",
      "source": [
        "# Split the data into training, testing, and validation sets\n",
        "train_size = int(0.7 * len(df))\n",
        "test_size = int(0.2 * len(df))\n",
        "val_size = len(df) - train_size - test_size\n",
        "\n",
        "train_data = df[:train_size]\n",
        "test_data = df[train_size:train_size+test_size]\n",
        "val_data = df[train_size+test_size:]"
      ],
      "metadata": {
        "id": "51tmZp5Bg2NT"
      },
      "execution_count": 70,
      "outputs": []
    },
    {
      "cell_type": "code",
      "source": [
        "# 3. Huấn luyện mô hình VAR\n",
        "model = VAR(train_data)\n",
        "\n",
        "# Tìm ra số lượng lag tối ưu cho mô hình\n",
        "lag_order = model.select_order(maxlags=12)\n",
        "print(lag_order.summary())"
      ],
      "metadata": {
        "colab": {
          "base_uri": "https://localhost:8080/"
        },
        "outputId": "c2fbd6e2-cf85-496d-86c9-70da29cb8c10",
        "id": "Wp2Zye9Rg2NT"
      },
      "execution_count": 71,
      "outputs": [
        {
          "output_type": "stream",
          "name": "stdout",
          "text": [
            " VAR Order Selection (* highlights the minimums)  \n",
            "==================================================\n",
            "       AIC         BIC         FPE         HQIC   \n",
            "--------------------------------------------------\n",
            "0        42.32       42.33   2.397e+18       42.32\n",
            "1       -12.15      -12.14   5.271e-06      -12.15\n",
            "2       -14.07      -14.04   7.765e-07      -14.06\n",
            "3       -12.23      -12.19   4.858e-06      -12.22\n",
            "4       -11.19      -11.14   1.375e-05      -11.17\n",
            "5       -13.11      -13.04   2.030e-06      -13.08\n",
            "6       -11.63      -11.56   8.874e-06      -11.60\n",
            "7      -16.48*     -16.40*  6.930e-08*     -16.45*\n",
            "8       -15.27      -15.16   2.346e-07      -15.23\n",
            "9       -15.99      -15.88   1.136e-07      -15.95\n",
            "10      -11.00      -10.88   1.668e-05      -10.96\n",
            "11      -11.77      -11.63   7.742e-06      -11.72\n",
            "12      -13.03      -12.89   2.185e-06      -12.98\n",
            "--------------------------------------------------\n"
          ]
        }
      ]
    },
    {
      "cell_type": "code",
      "source": [
        "# Fit mô hình với số lượng lag tối ưu\n",
        "model_fit = model.fit(maxlags=lag_order.aic, ic='aic')"
      ],
      "metadata": {
        "id": "CNE3Vrv3g2NT"
      },
      "execution_count": 72,
      "outputs": []
    },
    {
      "cell_type": "code",
      "source": [
        "# 4. Quá trình testing\n",
        "x_test = np.array(test_data.index).reshape(-1, 1)\n",
        "y_test = np.array(test_data[['Index', 'Price (VND)']])\n",
        "y_pred = model_fit.forecast(y_test, len(y_test))\n",
        "\n",
        "# 5. Quá trình Validate\n",
        "x_val= np.array(val_data.index).reshape(-1, 1)\n",
        "y_val = np.array(val_data[['Index', 'Price (VND)']])\n",
        "y_pred_val =  model_fit.forecast(y_val, len(y_val))"
      ],
      "metadata": {
        "id": "rKADu16Kg2NU"
      },
      "execution_count": 73,
      "outputs": []
    },
    {
      "cell_type": "code",
      "source": [
        "# 6. Quá trình tạo index predict 30 ngày tiếp theo\n",
        "last_index =  df.index[-1]\n",
        "last_data = pd.RangeIndex(start=last_index, stop=last_index+30, step=1)\n",
        "\n",
        "# Create an array of 30 consecutive integers starting from last_index\n",
        "x_next_30_days = np.array(range(last_index+1, last_index+31)).reshape(-1, 1)\n",
        "\n",
        "# Predict the closing prices for the next 30 days\n",
        "y_next_30_days = model_fit.forecast(df.values, 30)\n",
        "\n",
        "# Print the predicted closing prices for the next 30 days\n",
        "print('Predicted closing prices for the next 30 days:')\n",
        "print([round(x[1],2) for x in y_next_30_days])"
      ],
      "metadata": {
        "colab": {
          "base_uri": "https://localhost:8080/"
        },
        "outputId": "5e824b75-0fc5-4a70-8af2-f7c184b568af",
        "id": "26FoV3pVg2NU"
      },
      "execution_count": 74,
      "outputs": [
        {
          "output_type": "stream",
          "name": "stdout",
          "text": [
            "Predicted closing prices for the next 30 days:\n",
            "[44294989.22, 44225534.78, 44175924.02, 44097480.72, 44035324.71, 43978525.83, 43910490.33, 43843904.96, 43778552.73, 43712304.83, 43647016.15, 43582169.66, 43517167.16, 43452519.45, 43388202.96, 43324127.13, 43260366.28, 43196896.17, 43133693.96, 43070779.07, 43008148.69, 42945797.9, 42883728.5, 42821938.27, 42760425.16, 42699188.78, 42638227.8, 42577540.83, 42517126.79, 42456984.4]\n"
          ]
        }
      ]
    },
    {
      "cell_type": "code",
      "source": [
        "# 7. Đánh giá độ chính xác validate, test\n",
        "from sklearn.metrics import mean_absolute_percentage_error as MAPE\n",
        "from sklearn.metrics import mean_absolute_error as MAE\n",
        "from sklearn.metrics import mean_squared_error as MSE\n",
        "\n",
        "valid_rmse = np.sqrt(MSE(y_pred_val, y_val))\n",
        "test_rmse = np.sqrt(MSE(y_test, y_pred))\n",
        "valid_mape = MAPE(y_pred_val, y_val)*100\n",
        "test_mape = MAPE(y_test, y_pred)*100\n",
        "valid_mae = MAE(y_pred_val, y_val)\n",
        "test_mae = MAE(y_test, y_pred)\n",
        "\n",
        "print('Validation RMSE:', valid_rmse)\n",
        "print('Validation MAPE:', valid_mape)\n",
        "print('Validation MAE:', valid_mae)\n",
        "print('Testing RMSE:', test_rmse)\n",
        "print('Testing MAPE:', test_mape)\n",
        "print('Testing MAE:', test_mae)"
      ],
      "metadata": {
        "colab": {
          "base_uri": "https://localhost:8080/"
        },
        "outputId": "8c5900d0-3178-4961-804c-58967b6882e5",
        "id": "rOgAQnw7g2NU"
      },
      "execution_count": 75,
      "outputs": [
        {
          "output_type": "stream",
          "name": "stdout",
          "text": [
            "Validation RMSE: 3684178.1095076557\n",
            "Validation MAPE: 10.69892515119579\n",
            "Validation MAE: 2136172.5166365397\n",
            "Testing RMSE: 6227212.19763793\n",
            "Testing MAPE: 21.97041578996829\n",
            "Testing MAE: 3708145.2777787647\n"
          ]
        }
      ]
    },
    {
      "cell_type": "code",
      "source": [
        "# 8.Vẽ hình\n",
        "plt.plot(train_data.index, train_data['Price (VND)'])\n",
        "plt.plot(test_data.index, test_data['Price (VND)'])\n",
        "plt.plot(test_data.index, y_pred)\n",
        "plt.plot(val_data.index, y_pred_val)\n",
        "plt.plot(last_data,y_next_30_days)\n",
        "plt.legend(['Train', 'Test', 'Predictions','Validate','Next30Day'])\n",
        "plt.show()"
      ],
      "metadata": {
        "colab": {
          "base_uri": "https://localhost:8080/",
          "height": 445
        },
        "id": "6zcrk1wIFrdy",
        "outputId": "5122b5e2-4093-4292-caa6-317c540eacb9"
      },
      "execution_count": 76,
      "outputs": [
        {
          "output_type": "display_data",
          "data": {
            "text/plain": [
              "<Figure size 640x480 with 1 Axes>"
            ],
            "image/png": "[encoded data removed]"
          },
          "metadata": {}
        }
      ]
    },
    {
      "cell_type": "markdown",
      "source": [
        "### Price_1 8:1:1"
      ],
      "metadata": {
        "id": "d7RGoRLOhI2k"
      }
    },
    {
      "cell_type": "code",
      "source": [
        "# 1. Các thư viện cần thiết\n",
        "import numpy as np\n",
        "import pandas as pd\n",
        "import matplotlib.pyplot as plt\n",
        "from sklearn.preprocessing import MinMaxScaler\n",
        "from statsmodels.tsa.vector_ar.var_model import VAR"
      ],
      "metadata": {
        "id": "U6IeqxwhhI2q"
      },
      "execution_count": 77,
      "outputs": []
    },
    {
      "cell_type": "code",
      "source": [
        "# 2. Đọc file dữ liệu\n",
        "df = pd.read_csv('/content/drive/MyDrive/Study/IS403.N22.HTCL/final project/DATASET/Gold_Price_1.csv')\n",
        "df['Index'] = range(2680)"
      ],
      "metadata": {
        "id": "_aJqNL1-hI2q"
      },
      "execution_count": 78,
      "outputs": []
    },
    {
      "cell_type": "code",
      "source": [
        "df = df[['Index', 'Price (VND)']]\n",
        "df = df.dropna() # Drop missing values\n",
        "df = df.reset_index(drop=True) # Reset the index\n",
        "df.head()"
      ],
      "metadata": {
        "colab": {
          "base_uri": "https://localhost:8080/",
          "height": 206
        },
        "outputId": "f0598637-b28f-4232-d78f-de543dcb4821",
        "id": "HuKY6R5shI2r"
      },
      "execution_count": 79,
      "outputs": [
        {
          "output_type": "execute_result",
          "data": {
            "text/plain": [
              "   Index  Price (VND)\n",
              "0      0  32202288.50\n",
              "1      1  33607538.00\n",
              "2      2  33923003.00\n",
              "3      3  33628569.00\n",
              "4      4  34000652.75"
            ],
            "text/html": [
              "\n",
              "  <div id=\"df-64e496bc-b983-437b-ac6f-08f98ba7d601\">\n",
              "    <div class=\"colab-df-container\">\n",
              "      <div>\n",
              "<style scoped>\n",
              "    .dataframe tbody tr th:only-of-type {\n",
              "        vertical-align: middle;\n",
              "    }\n",
              "\n",
              "    .dataframe tbody tr th {\n",
              "        vertical-align: top;\n",
              "    }\n",
              "\n",
              "    .dataframe thead th {\n",
              "        text-align: right;\n",
              "    }\n",
              "</style>\n",
              "<table border=\"1\" class=\"dataframe\">\n",
              "  <thead>\n",
              "    <tr style=\"text-align: right;\">\n",
              "      <th></th>\n",
              "      <th>Index</th>\n",
              "      <th>Price (VND)</th>\n",
              "    </tr>\n",
              "  </thead>\n",
              "  <tbody>\n",
              "    <tr>\n",
              "      <th>0</th>\n",
              "      <td>0</td>\n",
              "      <td>32202288.50</td>\n",
              "    </tr>\n",
              "    <tr>\n",
              "      <th>1</th>\n",
              "      <td>1</td>\n",
              "      <td>33607538.00</td>\n",
              "    </tr>\n",
              "    <tr>\n",
              "      <th>2</th>\n",
              "      <td>2</td>\n",
              "      <td>33923003.00</td>\n",
              "    </tr>\n",
              "    <tr>\n",
              "      <th>3</th>\n",
              "      <td>3</td>\n",
              "      <td>33628569.00</td>\n",
              "    </tr>\n",
              "    <tr>\n",
              "      <th>4</th>\n",
              "      <td>4</td>\n",
              "      <td>34000652.75</td>\n",
              "    </tr>\n",
              "  </tbody>\n",
              "</table>\n",
              "</div>\n",
              "      <button class=\"colab-df-convert\" onclick=\"convertToInteractive('df-64e496bc-b983-437b-ac6f-08f98ba7d601')\"\n",
              "              title=\"Convert this dataframe to an interactive table.\"\n",
              "              style=\"display:none;\">\n",
              "        \n",
              "  <svg xmlns=\"http://www.w3.org/2000/svg\" height=\"24px\"viewBox=\"0 0 24 24\"\n",
              "       width=\"24px\">\n",
              "    <path d=\"M0 0h24v24H0V0z\" fill=\"none\"/>\n",
              "    <path d=\"M18.56 5.44l.94 2.06.94-2.06 2.06-.94-2.06-.94-.94-2.06-.94 2.06-2.06.94zm-11 1L8.5 8.5l.94-2.06 2.06-.94-2.06-.94L8.5 2.5l-.94 2.06-2.06.94zm10 10l.94 2.06.94-2.06 2.06-.94-2.06-.94-.94-2.06-.94 2.06-2.06.94z\"/><path d=\"M17.41 7.96l-1.37-1.37c-.4-.4-.92-.59-1.43-.59-.52 0-1.04.2-1.43.59L10.3 9.45l-7.72 7.72c-.78.78-.78 2.05 0 2.83L4 21.41c.39.39.9.59 1.41.59.51 0 1.02-.2 1.41-.59l7.78-7.78 2.81-2.81c.8-.78.8-2.07 0-2.86zM5.41 20L4 18.59l7.72-7.72 1.47 1.35L5.41 20z\"/>\n",
              "  </svg>\n",
              "      </button>\n",
              "      \n",
              "  <style>\n",
              "    .colab-df-container {\n",
              "      display:flex;\n",
              "      flex-wrap:wrap;\n",
              "      gap: 12px;\n",
              "    }\n",
              "\n",
              "    .colab-df-convert {\n",
              "      background-color: #E8F0FE;\n",
              "      border: none;\n",
              "      border-radius: 50%;\n",
              "      cursor: pointer;\n",
              "      display: none;\n",
              "      fill: #1967D2;\n",
              "      height: 32px;\n",
              "      padding: 0 0 0 0;\n",
              "      width: 32px;\n",
              "    }\n",
              "\n",
              "    .colab-df-convert:hover {\n",
              "      background-color: #E2EBFA;\n",
              "      box-shadow: 0px 1px 2px rgba(60, 64, 67, 0.3), 0px 1px 3px 1px rgba(60, 64, 67, 0.15);\n",
              "      fill: #174EA6;\n",
              "    }\n",
              "\n",
              "    [theme=dark] .colab-df-convert {\n",
              "      background-color: #3B4455;\n",
              "      fill: #D2E3FC;\n",
              "    }\n",
              "\n",
              "    [theme=dark] .colab-df-convert:hover {\n",
              "      background-color: #434B5C;\n",
              "      box-shadow: 0px 1px 3px 1px rgba(0, 0, 0, 0.15);\n",
              "      filter: drop-shadow(0px 1px 2px rgba(0, 0, 0, 0.3));\n",
              "      fill: #FFFFFF;\n",
              "    }\n",
              "  </style>\n",
              "\n",
              "      <script>\n",
              "        const buttonEl =\n",
              "          document.querySelector('#df-64e496bc-b983-437b-ac6f-08f98ba7d601 button.colab-df-convert');\n",
              "        buttonEl.style.display =\n",
              "          google.colab.kernel.accessAllowed ? 'block' : 'none';\n",
              "\n",
              "        async function convertToInteractive(key) {\n",
              "          const element = document.querySelector('#df-64e496bc-b983-437b-ac6f-08f98ba7d601');\n",
              "          const dataTable =\n",
              "            await google.colab.kernel.invokeFunction('convertToInteractive',\n",
              "                                                     [key], {});\n",
              "          if (!dataTable) return;\n",
              "\n",
              "          const docLinkHtml = 'Like what you see? Visit the ' +\n",
              "            '<a target=\"_blank\" href=https://colab.research.google.com/notebooks/data_table.ipynb>data table notebook</a>'\n",
              "            + ' to learn more about interactive tables.';\n",
              "          element.innerHTML = '';\n",
              "          dataTable['output_type'] = 'display_data';\n",
              "          await google.colab.output.renderOutput(dataTable, element);\n",
              "          const docLink = document.createElement('div');\n",
              "          docLink.innerHTML = docLinkHtml;\n",
              "          element.appendChild(docLink);\n",
              "        }\n",
              "      </script>\n",
              "    </div>\n",
              "  </div>\n",
              "  "
            ]
          },
          "metadata": {},
          "execution_count": 79
        }
      ]
    },
    {
      "cell_type": "code",
      "source": [
        "# Split the data into training, testing, and validation sets\n",
        "train_size = int(0.8 * len(df))\n",
        "test_size = int(0.1 * len(df))\n",
        "val_size = len(df) - train_size - test_size\n",
        "\n",
        "train_data = df[:train_size]\n",
        "test_data = df[train_size:train_size+test_size]\n",
        "val_data = df[train_size+test_size:]"
      ],
      "metadata": {
        "id": "H7L8mAMphI2r"
      },
      "execution_count": 80,
      "outputs": []
    },
    {
      "cell_type": "code",
      "source": [
        "# 3. Huấn luyện mô hình VAR\n",
        "model = VAR(train_data)\n",
        "\n",
        "# Tìm ra số lượng lag tối ưu cho mô hình\n",
        "lag_order = model.select_order(maxlags=12)\n",
        "print(lag_order.summary())"
      ],
      "metadata": {
        "colab": {
          "base_uri": "https://localhost:8080/"
        },
        "outputId": "2973164b-4aa8-4496-e14d-12213ae8c6ef",
        "id": "olK8gbHPhI2s"
      },
      "execution_count": 81,
      "outputs": [
        {
          "output_type": "stream",
          "name": "stdout",
          "text": [
            " VAR Order Selection (* highlights the minimums)  \n",
            "==================================================\n",
            "       AIC         BIC         FPE         HQIC   \n",
            "--------------------------------------------------\n",
            "0        42.93       42.94   4.415e+18       42.93\n",
            "1       -14.34      -14.32   5.915e-07      -14.33\n",
            "2       -15.13      -15.11   2.676e-07      -15.12\n",
            "3       -12.58      -12.55   3.424e-06      -12.57\n",
            "4       -12.50      -12.46   3.716e-06      -12.49\n",
            "5       -14.39      -14.33   5.642e-07      -14.37\n",
            "6      -16.14*     -16.07*  9.792e-08*     -16.11*\n",
            "7       -13.58      -13.50   1.268e-06      -13.55\n",
            "8       -12.45      -12.36   3.921e-06      -12.42\n",
            "9       -11.54      -11.44   9.743e-06      -11.50\n",
            "10      -13.22      -13.11   1.818e-06      -13.18\n",
            "11      -14.12      -13.99   7.404e-07      -14.07\n",
            "12      -15.32      -15.19   2.224e-07      -15.27\n",
            "--------------------------------------------------\n"
          ]
        }
      ]
    },
    {
      "cell_type": "code",
      "source": [
        "# Fit mô hình với số lượng lag tối ưu\n",
        "model_fit = model.fit(maxlags=lag_order.aic, ic='aic')"
      ],
      "metadata": {
        "id": "_CeTYh19hI2s"
      },
      "execution_count": 82,
      "outputs": []
    },
    {
      "cell_type": "code",
      "source": [
        "# 4. Quá trình testing\n",
        "x_test = np.array(test_data.index).reshape(-1, 1)\n",
        "y_test = np.array(test_data[['Index', 'Price (VND)']])\n",
        "y_pred = model_fit.forecast(y_test, len(y_test))\n",
        "\n",
        "# 5. Quá trình Validate\n",
        "x_val= np.array(val_data.index).reshape(-1, 1)\n",
        "y_val = np.array(val_data[['Index', 'Price (VND)']])\n",
        "y_pred_val =  model_fit.forecast(y_val, len(y_val))"
      ],
      "metadata": {
        "id": "GxGoHWx-hI2s"
      },
      "execution_count": 83,
      "outputs": []
    },
    {
      "cell_type": "code",
      "source": [
        "# 6. Quá trình tạo index predict 30 ngày tiếp theo\n",
        "last_index =  df.index[-1]\n",
        "last_data = pd.RangeIndex(start=last_index, stop=last_index+30, step=1)\n",
        "\n",
        "# Create an array of 30 consecutive integers starting from last_index\n",
        "x_next_30_days = np.array(range(last_index+1, last_index+31)).reshape(-1, 1)\n",
        "\n",
        "# Predict the closing prices for the next 30 days\n",
        "y_next_30_days = model_fit.forecast(df.values, 30)\n",
        "\n",
        "# Print the predicted closing prices for the next 30 days\n",
        "print('Predicted closing prices for the next 30 days:')\n",
        "print([round(x[1],2) for x in y_next_30_days])"
      ],
      "metadata": {
        "colab": {
          "base_uri": "https://localhost:8080/"
        },
        "outputId": "c532a200-2d3d-4d82-e97d-8ffaa42fab50",
        "id": "zOBmiu8IhI2s"
      },
      "execution_count": 84,
      "outputs": [
        {
          "output_type": "stream",
          "name": "stdout",
          "text": [
            "Predicted closing prices for the next 30 days:\n",
            "[44350314.37, 44322497.7, 44299982.34, 44273744.49, 44247669.89, 44221809.19, 44195980.4, 44170243.83, 44144601.44, 44119049.46, 44093588.55, 44068218.49, 44042938.93, 44017749.61, 43992650.24, 43967640.56, 43942720.28, 43917889.13, 43893146.83, 43868493.1, 43843927.67, 43819450.27, 43795060.62, 43770758.46, 43746543.51, 43722415.5, 43698374.16, 43674419.23, 43650550.44, 43626767.51]\n"
          ]
        }
      ]
    },
    {
      "cell_type": "code",
      "source": [
        "# 7. Đánh giá độ chính xác validate, test\n",
        "from sklearn.metrics import mean_absolute_percentage_error as MAPE\n",
        "from sklearn.metrics import mean_absolute_error as MAE\n",
        "from sklearn.metrics import mean_squared_error as MSE\n",
        "\n",
        "valid_rmse = np.sqrt(MSE(y_pred_val, y_val))\n",
        "test_rmse = np.sqrt(MSE(y_test, y_pred))\n",
        "valid_mape = MAPE(y_pred_val, y_val)*100\n",
        "test_mape = MAPE(y_test, y_pred)*100\n",
        "valid_mae = MAE(y_pred_val, y_val)\n",
        "test_mae = MAE(y_test, y_pred)\n",
        "\n",
        "print('Validation RMSE:', valid_rmse)\n",
        "print('Validation MAPE:', valid_mape)\n",
        "print('Validation MAE:', valid_mae)\n",
        "print('Testing RMSE:', test_rmse)\n",
        "print('Testing MAPE:', test_mape)\n",
        "print('Testing MAE:', test_mae)"
      ],
      "metadata": {
        "colab": {
          "base_uri": "https://localhost:8080/"
        },
        "outputId": "63d8c61a-5f17-4a7b-c101-f67b94768936",
        "id": "6RDFq67QhI2s"
      },
      "execution_count": 85,
      "outputs": [
        {
          "output_type": "stream",
          "name": "stdout",
          "text": [
            "Validation RMSE: 1523332.560465045\n",
            "Validation MAPE: 6.713666529466191\n",
            "Validation MAE: 810965.6856688575\n",
            "Testing RMSE: 3622752.5235783085\n",
            "Testing MAPE: 11.178204490897757\n",
            "Testing MAE: 2280883.04295722\n"
          ]
        }
      ]
    },
    {
      "cell_type": "code",
      "source": [
        "# 8.Vẽ hình\n",
        "plt.plot(train_data.index, train_data['Price (VND)'])\n",
        "plt.plot(test_data.index, test_data['Price (VND)'])\n",
        "plt.plot(test_data.index, y_pred)\n",
        "plt.plot(val_data.index, y_pred_val)\n",
        "plt.plot(last_data,y_next_30_days)\n",
        "plt.legend(['Train', 'Test', 'Predictions','Validate','Next30Day'])\n",
        "plt.show()"
      ],
      "metadata": {
        "colab": {
          "base_uri": "https://localhost:8080/",
          "height": 445
        },
        "id": "lJGLauXHFue4",
        "outputId": "34438df0-7b71-4836-8c98-fcdf979f929d"
      },
      "execution_count": 86,
      "outputs": [
        {
          "output_type": "display_data",
          "data": {
            "text/plain": [
              "<Figure size 640x480 with 1 Axes>"
            ],
            "image/png": "[encoded data removed]"
          },
          "metadata": {}
        }
      ]
    },
    {
      "cell_type": "markdown",
      "source": [
        "## Price_2"
      ],
      "metadata": {
        "id": "4BhXNdXGd1Vb"
      }
    },
    {
      "cell_type": "markdown",
      "source": [
        "### Price 2 6:3:1"
      ],
      "metadata": {
        "id": "jmGLE_mqeAIr"
      }
    },
    {
      "cell_type": "code",
      "execution_count": 87,
      "metadata": {
        "id": "Gk-6YD2TeAIx"
      },
      "outputs": [],
      "source": [
        "# 1. Các thư viện cần thiết\n",
        "import numpy as np\n",
        "import pandas as pd\n",
        "import matplotlib.pyplot as plt\n",
        "from statsmodels.tsa.vector_ar.var_model import VAR"
      ]
    },
    {
      "cell_type": "code",
      "source": [
        "# 2. Đọc file dữ liệu\n",
        "df = pd.read_csv('/content/drive/MyDrive/Study/IS403.N22.HTCL/final project/DATASET/Gold_Price_2.csv')\n",
        "df = df[['USO', 'GLD']]\n",
        "df = df.dropna() # Drop missing values\n",
        "df = df.reset_index(drop=True) # Reset the index\n",
        "df.head()"
      ],
      "metadata": {
        "colab": {
          "base_uri": "https://localhost:8080/",
          "height": 206
        },
        "outputId": "e3df74c1-c093-4209-a046-0c1117104168",
        "id": "icvzIoeceAIx"
      },
      "execution_count": 88,
      "outputs": [
        {
          "output_type": "execute_result",
          "data": {
            "text/plain": [
              "         USO        GLD\n",
              "0  78.470001  84.860001\n",
              "1  78.370003  85.570000\n",
              "2  77.309998  85.129997\n",
              "3  75.500000  84.769997\n",
              "4  76.059998  86.779999"
            ],
            "text/html": [
              "\n",
              "  <div id=\"df-1b63d51f-671d-41ec-8461-4a37d3c6b7c3\">\n",
              "    <div class=\"colab-df-container\">\n",
              "      <div>\n",
              "<style scoped>\n",
              "    .dataframe tbody tr th:only-of-type {\n",
              "        vertical-align: middle;\n",
              "    }\n",
              "\n",
              "    .dataframe tbody tr th {\n",
              "        vertical-align: top;\n",
              "    }\n",
              "\n",
              "    .dataframe thead th {\n",
              "        text-align: right;\n",
              "    }\n",
              "</style>\n",
              "<table border=\"1\" class=\"dataframe\">\n",
              "  <thead>\n",
              "    <tr style=\"text-align: right;\">\n",
              "      <th></th>\n",
              "      <th>USO</th>\n",
              "      <th>GLD</th>\n",
              "    </tr>\n",
              "  </thead>\n",
              "  <tbody>\n",
              "    <tr>\n",
              "      <th>0</th>\n",
              "      <td>78.470001</td>\n",
              "      <td>84.860001</td>\n",
              "    </tr>\n",
              "    <tr>\n",
              "      <th>1</th>\n",
              "      <td>78.370003</td>\n",
              "      <td>85.570000</td>\n",
              "    </tr>\n",
              "    <tr>\n",
              "      <th>2</th>\n",
              "      <td>77.309998</td>\n",
              "      <td>85.129997</td>\n",
              "    </tr>\n",
              "    <tr>\n",
              "      <th>3</th>\n",
              "      <td>75.500000</td>\n",
              "      <td>84.769997</td>\n",
              "    </tr>\n",
              "    <tr>\n",
              "      <th>4</th>\n",
              "      <td>76.059998</td>\n",
              "      <td>86.779999</td>\n",
              "    </tr>\n",
              "  </tbody>\n",
              "</table>\n",
              "</div>\n",
              "      <button class=\"colab-df-convert\" onclick=\"convertToInteractive('df-1b63d51f-671d-41ec-8461-4a37d3c6b7c3')\"\n",
              "              title=\"Convert this dataframe to an interactive table.\"\n",
              "              style=\"display:none;\">\n",
              "        \n",
              "  <svg xmlns=\"http://www.w3.org/2000/svg\" height=\"24px\"viewBox=\"0 0 24 24\"\n",
              "       width=\"24px\">\n",
              "    <path d=\"M0 0h24v24H0V0z\" fill=\"none\"/>\n",
              "    <path d=\"M18.56 5.44l.94 2.06.94-2.06 2.06-.94-2.06-.94-.94-2.06-.94 2.06-2.06.94zm-11 1L8.5 8.5l.94-2.06 2.06-.94-2.06-.94L8.5 2.5l-.94 2.06-2.06.94zm10 10l.94 2.06.94-2.06 2.06-.94-2.06-.94-.94-2.06-.94 2.06-2.06.94z\"/><path d=\"M17.41 7.96l-1.37-1.37c-.4-.4-.92-.59-1.43-.59-.52 0-1.04.2-1.43.59L10.3 9.45l-7.72 7.72c-.78.78-.78 2.05 0 2.83L4 21.41c.39.39.9.59 1.41.59.51 0 1.02-.2 1.41-.59l7.78-7.78 2.81-2.81c.8-.78.8-2.07 0-2.86zM5.41 20L4 18.59l7.72-7.72 1.47 1.35L5.41 20z\"/>\n",
              "  </svg>\n",
              "      </button>\n",
              "      \n",
              "  <style>\n",
              "    .colab-df-container {\n",
              "      display:flex;\n",
              "      flex-wrap:wrap;\n",
              "      gap: 12px;\n",
              "    }\n",
              "\n",
              "    .colab-df-convert {\n",
              "      background-color: #E8F0FE;\n",
              "      border: none;\n",
              "      border-radius: 50%;\n",
              "      cursor: pointer;\n",
              "      display: none;\n",
              "      fill: #1967D2;\n",
              "      height: 32px;\n",
              "      padding: 0 0 0 0;\n",
              "      width: 32px;\n",
              "    }\n",
              "\n",
              "    .colab-df-convert:hover {\n",
              "      background-color: #E2EBFA;\n",
              "      box-shadow: 0px 1px 2px rgba(60, 64, 67, 0.3), 0px 1px 3px 1px rgba(60, 64, 67, 0.15);\n",
              "      fill: #174EA6;\n",
              "    }\n",
              "\n",
              "    [theme=dark] .colab-df-convert {\n",
              "      background-color: #3B4455;\n",
              "      fill: #D2E3FC;\n",
              "    }\n",
              "\n",
              "    [theme=dark] .colab-df-convert:hover {\n",
              "      background-color: #434B5C;\n",
              "      box-shadow: 0px 1px 3px 1px rgba(0, 0, 0, 0.15);\n",
              "      filter: drop-shadow(0px 1px 2px rgba(0, 0, 0, 0.3));\n",
              "      fill: #FFFFFF;\n",
              "    }\n",
              "  </style>\n",
              "\n",
              "      <script>\n",
              "        const buttonEl =\n",
              "          document.querySelector('#df-1b63d51f-671d-41ec-8461-4a37d3c6b7c3 button.colab-df-convert');\n",
              "        buttonEl.style.display =\n",
              "          google.colab.kernel.accessAllowed ? 'block' : 'none';\n",
              "\n",
              "        async function convertToInteractive(key) {\n",
              "          const element = document.querySelector('#df-1b63d51f-671d-41ec-8461-4a37d3c6b7c3');\n",
              "          const dataTable =\n",
              "            await google.colab.kernel.invokeFunction('convertToInteractive',\n",
              "                                                     [key], {});\n",
              "          if (!dataTable) return;\n",
              "\n",
              "          const docLinkHtml = 'Like what you see? Visit the ' +\n",
              "            '<a target=\"_blank\" href=https://colab.research.google.com/notebooks/data_table.ipynb>data table notebook</a>'\n",
              "            + ' to learn more about interactive tables.';\n",
              "          element.innerHTML = '';\n",
              "          dataTable['output_type'] = 'display_data';\n",
              "          await google.colab.output.renderOutput(dataTable, element);\n",
              "          const docLink = document.createElement('div');\n",
              "          docLink.innerHTML = docLinkHtml;\n",
              "          element.appendChild(docLink);\n",
              "        }\n",
              "      </script>\n",
              "    </div>\n",
              "  </div>\n",
              "  "
            ]
          },
          "metadata": {},
          "execution_count": 88
        }
      ]
    },
    {
      "cell_type": "code",
      "source": [
        "# Split the data into training, testing, and validation sets\n",
        "train_size = int(0.6 * len(df))\n",
        "test_size = int(0.3 * len(df))\n",
        "val_size = len(df) - train_size - test_size\n",
        "\n",
        "train_data = df[:train_size]\n",
        "test_data = df[train_size:train_size+test_size]\n",
        "val_data = df[train_size+test_size:]"
      ],
      "metadata": {
        "id": "OP54PYWgeAIx"
      },
      "execution_count": 89,
      "outputs": []
    },
    {
      "cell_type": "code",
      "source": [
        "# 3. Quá trình Training\n",
        "x_train = np.array(train_data.index).reshape(-1, 1)\n",
        "y_train = np.array(train_data[['USO', 'GLD']])\n",
        "\n",
        "# 3. Huấn luyện mô hình VAR\n",
        "model = VAR(y_train)\n",
        "\n",
        "# Tìm ra số lượng lag tối ưu cho mô hình\n",
        "lag_order = model.select_order(maxlags=12)\n",
        "print(lag_order.summary())"
      ],
      "metadata": {
        "colab": {
          "base_uri": "https://localhost:8080/"
        },
        "outputId": "ad3c9b0e-33a5-46bd-da13-b3dee49cb952",
        "id": "LKQozCr7eAIy"
      },
      "execution_count": 90,
      "outputs": [
        {
          "output_type": "stream",
          "name": "stdout",
          "text": [
            " VAR Order Selection (* highlights the minimums)  \n",
            "==================================================\n",
            "       AIC         BIC         FPE         HQIC   \n",
            "--------------------------------------------------\n",
            "0        12.28       12.29   2.157e+05       12.28\n",
            "1        1.425      1.448*       4.160       1.434\n",
            "2        1.421       1.459       4.140       1.435\n",
            "3        1.413       1.466       4.107       1.433\n",
            "4        1.403       1.471       4.065      1.428*\n",
            "5        1.404       1.489       4.073       1.436\n",
            "6        1.406       1.505       4.079       1.443\n",
            "7        1.410       1.524       4.094       1.453\n",
            "8        1.410       1.540       4.096       1.459\n",
            "9        1.407       1.553       4.084       1.462\n",
            "10       1.409       1.570       4.091       1.469\n",
            "11       1.407       1.584       4.085       1.473\n",
            "12      1.401*       1.592      4.059*       1.473\n",
            "--------------------------------------------------\n"
          ]
        }
      ]
    },
    {
      "cell_type": "code",
      "source": [
        "# Fit mô hình với số lượng lag tối ưu\n",
        "model_fit = model.fit(maxlags=lag_order.aic, ic='aic')"
      ],
      "metadata": {
        "id": "5aibjqLqeAIy"
      },
      "execution_count": 91,
      "outputs": []
    },
    {
      "cell_type": "code",
      "source": [
        "print(model_fit.summary())"
      ],
      "metadata": {
        "colab": {
          "base_uri": "https://localhost:8080/"
        },
        "id": "4HTMxj-C470k",
        "outputId": "764d53e3-8231-475e-8c01-3557ff04c5e4"
      },
      "execution_count": 92,
      "outputs": [
        {
          "output_type": "stream",
          "name": "stdout",
          "text": [
            "  Summary of Regression Results   \n",
            "==================================\n",
            "Model:                         VAR\n",
            "Method:                        OLS\n",
            "Date:           Wed, 21, Jun, 2023\n",
            "Time:                     03:57:03\n",
            "--------------------------------------------------------------------\n",
            "No. of Equations:         2.00000    BIC:                    1.59249\n",
            "Nobs:                     1362.00    HQIC:                   1.47267\n",
            "Log likelihood:          -4769.26    FPE:                    4.05922\n",
            "AIC:                      1.40098    Det(Omega_mle):         3.91421\n",
            "--------------------------------------------------------------------\n",
            "Results for equation y1\n",
            "=========================================================================\n",
            "            coefficient       std. error           t-stat            prob\n",
            "-------------------------------------------------------------------------\n",
            "const          0.171399         0.206826            0.829           0.407\n",
            "L1.y1          0.900273         0.028330           31.778           0.000\n",
            "L1.y2          0.039763         0.018505            2.149           0.032\n",
            "L2.y1          0.049187         0.038149            1.289           0.197\n",
            "L2.y2          0.018582         0.025508            0.728           0.466\n",
            "L3.y1          0.146181         0.038265            3.820           0.000\n",
            "L3.y2         -0.079514         0.025529           -3.115           0.002\n",
            "L4.y1         -0.130947         0.038361           -3.414           0.001\n",
            "L4.y2          0.004925         0.025621            0.192           0.848\n",
            "L5.y1          0.074901         0.038472            1.947           0.052\n",
            "L5.y2         -0.013610         0.025638           -0.531           0.596\n",
            "L6.y1          0.002670         0.038542            0.069           0.945\n",
            "L6.y2          0.005422         0.025649            0.211           0.833\n",
            "L7.y1          0.013723         0.038547            0.356           0.722\n",
            "L7.y2          0.006154         0.025646            0.240           0.810\n",
            "L8.y1         -0.065763         0.038488           -1.709           0.088\n",
            "L8.y2         -0.036889         0.025620           -1.440           0.150\n",
            "L9.y1          0.056573         0.038271            1.478           0.139\n",
            "L9.y2          0.051592         0.025585            2.016           0.044\n",
            "L10.y1         0.030104         0.038099            0.790           0.429\n",
            "L10.y2         0.004218         0.025623            0.165           0.869\n",
            "L11.y1         0.012845         0.038037            0.338           0.736\n",
            "L11.y2        -0.040300         0.025568           -1.576           0.115\n",
            "L12.y1        -0.093490         0.028179           -3.318           0.001\n",
            "L12.y2         0.039440         0.018609            2.119           0.034\n",
            "=========================================================================\n",
            "\n",
            "Results for equation y2\n",
            "=========================================================================\n",
            "            coefficient       std. error           t-stat            prob\n",
            "-------------------------------------------------------------------------\n",
            "const          0.779901         0.317294            2.458           0.014\n",
            "L1.y1          0.005496         0.043461            0.126           0.899\n",
            "L1.y2          0.965028         0.028388           33.994           0.000\n",
            "L2.y1         -0.128542         0.058524           -2.196           0.028\n",
            "L2.y2          0.082446         0.039132            2.107           0.035\n",
            "L3.y1          0.112035         0.058702            1.909           0.056\n",
            "L3.y2         -0.105265         0.039165           -2.688           0.007\n",
            "L4.y1          0.057488         0.058849            0.977           0.329\n",
            "L4.y2          0.040569         0.039305            1.032           0.302\n",
            "L5.y1         -0.046208         0.059021           -0.783           0.434\n",
            "L5.y2          0.040383         0.039331            1.027           0.305\n",
            "L6.y1         -0.017568         0.059127           -0.297           0.766\n",
            "L6.y2         -0.028121         0.039349           -0.715           0.475\n",
            "L7.y1         -0.029077         0.059135           -0.492           0.623\n",
            "L7.y2         -0.000525         0.039344           -0.013           0.989\n",
            "L8.y1          0.006383         0.059045            0.108           0.914\n",
            "L8.y2          0.003689         0.039304            0.094           0.925\n",
            "L9.y1          0.112493         0.058711            1.916           0.055\n",
            "L9.y2         -0.050969         0.039251           -1.299           0.194\n",
            "L10.y1         0.001303         0.058448            0.022           0.982\n",
            "L10.y2         0.071255         0.039309            1.813           0.070\n",
            "L11.y1        -0.006068         0.058353           -0.104           0.917\n",
            "L11.y2        -0.093475         0.039225           -2.383           0.017\n",
            "L12.y1        -0.073301         0.043230           -1.696           0.090\n",
            "L12.y2         0.070934         0.028549            2.485           0.013\n",
            "=========================================================================\n",
            "\n",
            "Correlation matrix of residuals\n",
            "            y1        y2\n",
            "y1    1.000000  0.273212\n",
            "y2    0.273212  1.000000\n",
            "\n",
            "\n",
            "\n"
          ]
        }
      ]
    },
    {
      "cell_type": "code",
      "source": [
        "# 4. Quá trình testing\n",
        "x_test = np.array(test_data.index).reshape(-1, 1)\n",
        "y_test = np.array(test_data[['USO', 'GLD']])\n",
        "y_pred = model_fit.forecast(y_test, len(y_test))\n",
        "\n",
        "# 5. Quá trình Validate\n",
        "x_val= np.array(val_data.index).reshape(-1, 1)\n",
        "y_val = np.array(val_data[['USO', 'GLD']])\n",
        "y_pred_val =  model_fit.forecast(y_val, len(y_val))"
      ],
      "metadata": {
        "id": "zSnIuijBeAIy"
      },
      "execution_count": 93,
      "outputs": []
    },
    {
      "cell_type": "code",
      "source": [
        "# 6. Quá trình tạo index predict 30 ngày tiếp theo\n",
        "last_index =  df.index[-1]\n",
        "last_data = pd.RangeIndex(start=last_index, stop=last_index+30, step=1)\n",
        "\n",
        "# Create an array of 30 consecutive integers starting from last_index\n",
        "x_next_30_days = np.array(range(last_index+1, last_index+31)).reshape(-1, 1)\n",
        "\n",
        "# Predict the closing prices for the next 30 days\n",
        "y_next_30_days = model_fit.forecast(df.values, 30)\n",
        "\n",
        "# Print the predicted closing prices for the next 30 days\n",
        "print('Predicted closing prices for the next 30 days:')\n",
        "print(y_next_30_days)"
      ],
      "metadata": {
        "colab": {
          "base_uri": "https://localhost:8080/"
        },
        "outputId": "d908c550-559b-4115-ec3d-1086c2960f11",
        "id": "nnBBGZHAeAIy"
      },
      "execution_count": 94,
      "outputs": [
        {
          "output_type": "stream",
          "name": "stdout",
          "text": [
            "Predicted closing prices for the next 30 days:\n",
            "[[ 14.37937035 122.79354914]\n",
            " [ 14.36386096 122.89432348]\n",
            " [ 14.53537971 123.26669155]\n",
            " [ 14.70964867 123.4889694 ]\n",
            " [ 14.88170913 123.59596364]\n",
            " [ 15.00278995 123.80389298]\n",
            " [ 15.17053594 123.95024943]\n",
            " [ 15.39814917 124.23839691]\n",
            " [ 15.4343522  124.43475223]\n",
            " [ 15.56556804 124.58756643]\n",
            " [ 15.72927624 124.89799614]\n",
            " [ 15.79426963 125.03376841]\n",
            " [ 15.91342625 125.21564014]\n",
            " [ 16.02030692 125.38719805]\n",
            " [ 16.1239037  125.55968476]\n",
            " [ 16.22484604 125.74862503]\n",
            " [ 16.33178728 125.92486671]\n",
            " [ 16.44245881 126.10411426]\n",
            " [ 16.52988327 126.26865012]\n",
            " [ 16.62584533 126.42702883]\n",
            " [ 16.72566661 126.60299935]\n",
            " [ 16.81431727 126.75860178]\n",
            " [ 16.90730738 126.92358833]\n",
            " [ 17.00035083 127.08548008]\n",
            " [ 17.09161621 127.24575297]\n",
            " [ 17.18202051 127.40608784]\n",
            " [ 17.27310293 127.5643724 ]\n",
            " [ 17.3639404  127.72237044]\n",
            " [ 17.45183102 127.87807253]\n",
            " [ 17.54023174 128.03218673]]\n"
          ]
        }
      ]
    },
    {
      "cell_type": "code",
      "source": [
        "# 7. Đánh giá độ chính xác validate, test\n",
        "from sklearn.metrics import mean_absolute_percentage_error as MAPE\n",
        "from sklearn.metrics import mean_absolute_error as MAE\n",
        "from sklearn.metrics import mean_squared_error as MSE\n",
        "\n",
        "valid_rmse = np.sqrt(MSE(y_pred_val, y_val))\n",
        "test_rmse = np.sqrt(MSE(y_test, y_pred))\n",
        "valid_mape = MAPE(y_pred_val, y_val)*100\n",
        "test_mape = MAPE(y_test, y_pred)*100\n",
        "valid_mae = MAE(y_pred_val, y_val)\n",
        "test_mae = MAE(y_test, y_pred)\n",
        "\n",
        "print('Validation RMSE:', valid_rmse)\n",
        "print('Validation MAPE:', valid_mape)\n",
        "print('Validation MAE:', valid_mae)\n",
        "print('Testing RMSE:', test_rmse)\n",
        "print('Testing MAPE:', test_mape)\n",
        "print('Testing MAE:', test_mae)"
      ],
      "metadata": {
        "colab": {
          "base_uri": "https://localhost:8080/"
        },
        "outputId": "30f29c1c-c32e-4394-ceb9-56018ecb38e7",
        "id": "Q_bXfUKyeAIz"
      },
      "execution_count": 95,
      "outputs": [
        {
          "output_type": "stream",
          "name": "stdout",
          "text": [
            "Validation RMSE: 13.346662501852744\n",
            "Validation MAPE: 30.221035424268848\n",
            "Validation MAE: 12.798566717344798\n",
            "Testing RMSE: 25.066153222406868\n",
            "Testing MAPE: 81.81909943636101\n",
            "Testing MAE: 22.861143983840037\n"
          ]
        }
      ]
    },
    {
      "cell_type": "code",
      "source": [
        "# 8.Vẽ hình\n",
        "plt.plot(train_data.index, train_data['GLD'])\n",
        "plt.plot(test_data.index, test_data['GLD'])\n",
        "plt.plot(test_data.index, y_pred)\n",
        "plt.plot(val_data.index, y_pred_val)\n",
        "plt.plot(last_data,y_next_30_days)\n",
        "plt.legend(['Train', 'Test', 'Predictions','Validate','Next30Day'])\n",
        "plt.show()"
      ],
      "metadata": {
        "colab": {
          "base_uri": "https://localhost:8080/",
          "height": 430
        },
        "id": "z3MLyfUaFwzf",
        "outputId": "05a300a8-5040-4e50-fe64-b01afe9b8963"
      },
      "execution_count": 96,
      "outputs": [
        {
          "output_type": "display_data",
          "data": {
            "text/plain": [
              "<Figure size 640x480 with 1 Axes>"
            ],
            "image/png": "[encoded data removed]"
          },
          "metadata": {}
        }
      ]
    },
    {
      "cell_type": "markdown",
      "source": [
        "### Price 2 7:2:1"
      ],
      "metadata": {
        "id": "uCsGcQ3Eev8f"
      }
    },
    {
      "cell_type": "code",
      "execution_count": 97,
      "metadata": {
        "id": "ocowSITYev8l"
      },
      "outputs": [],
      "source": [
        "# 1. Các thư viện cần thiết\n",
        "import numpy as np\n",
        "import pandas as pd\n",
        "import matplotlib.pyplot as plt\n",
        "from statsmodels.tsa.vector_ar.var_model import VAR"
      ]
    },
    {
      "cell_type": "code",
      "source": [
        "# 2. Đọc file dữ liệu\n",
        "df = pd.read_csv('/content/drive/MyDrive/Study/IS403.N22.HTCL/final project/DATASET/Gold_Price_2.csv')\n",
        "df = df[['USO', 'GLD']]\n",
        "df = df.dropna() # Drop missing values\n",
        "df = df.reset_index(drop=True) # Reset the index\n",
        "df.head()"
      ],
      "metadata": {
        "colab": {
          "base_uri": "https://localhost:8080/",
          "height": 206
        },
        "outputId": "cbfdae83-78a6-4567-fd29-f3c5c9995756",
        "id": "e7h_2PI3ev8l"
      },
      "execution_count": 98,
      "outputs": [
        {
          "output_type": "execute_result",
          "data": {
            "text/plain": [
              "         USO        GLD\n",
              "0  78.470001  84.860001\n",
              "1  78.370003  85.570000\n",
              "2  77.309998  85.129997\n",
              "3  75.500000  84.769997\n",
              "4  76.059998  86.779999"
            ],
            "text/html": [
              "\n",
              "  <div id=\"df-1f796a85-3c5c-475d-bd4c-a00811cf1743\">\n",
              "    <div class=\"colab-df-container\">\n",
              "      <div>\n",
              "<style scoped>\n",
              "    .dataframe tbody tr th:only-of-type {\n",
              "        vertical-align: middle;\n",
              "    }\n",
              "\n",
              "    .dataframe tbody tr th {\n",
              "        vertical-align: top;\n",
              "    }\n",
              "\n",
              "    .dataframe thead th {\n",
              "        text-align: right;\n",
              "    }\n",
              "</style>\n",
              "<table border=\"1\" class=\"dataframe\">\n",
              "  <thead>\n",
              "    <tr style=\"text-align: right;\">\n",
              "      <th></th>\n",
              "      <th>USO</th>\n",
              "      <th>GLD</th>\n",
              "    </tr>\n",
              "  </thead>\n",
              "  <tbody>\n",
              "    <tr>\n",
              "      <th>0</th>\n",
              "      <td>78.470001</td>\n",
              "      <td>84.860001</td>\n",
              "    </tr>\n",
              "    <tr>\n",
              "      <th>1</th>\n",
              "      <td>78.370003</td>\n",
              "      <td>85.570000</td>\n",
              "    </tr>\n",
              "    <tr>\n",
              "      <th>2</th>\n",
              "      <td>77.309998</td>\n",
              "      <td>85.129997</td>\n",
              "    </tr>\n",
              "    <tr>\n",
              "      <th>3</th>\n",
              "      <td>75.500000</td>\n",
              "      <td>84.769997</td>\n",
              "    </tr>\n",
              "    <tr>\n",
              "      <th>4</th>\n",
              "      <td>76.059998</td>\n",
              "      <td>86.779999</td>\n",
              "    </tr>\n",
              "  </tbody>\n",
              "</table>\n",
              "</div>\n",
              "      <button class=\"colab-df-convert\" onclick=\"convertToInteractive('df-1f796a85-3c5c-475d-bd4c-a00811cf1743')\"\n",
              "              title=\"Convert this dataframe to an interactive table.\"\n",
              "              style=\"display:none;\">\n",
              "        \n",
              "  <svg xmlns=\"http://www.w3.org/2000/svg\" height=\"24px\"viewBox=\"0 0 24 24\"\n",
              "       width=\"24px\">\n",
              "    <path d=\"M0 0h24v24H0V0z\" fill=\"none\"/>\n",
              "    <path d=\"M18.56 5.44l.94 2.06.94-2.06 2.06-.94-2.06-.94-.94-2.06-.94 2.06-2.06.94zm-11 1L8.5 8.5l.94-2.06 2.06-.94-2.06-.94L8.5 2.5l-.94 2.06-2.06.94zm10 10l.94 2.06.94-2.06 2.06-.94-2.06-.94-.94-2.06-.94 2.06-2.06.94z\"/><path d=\"M17.41 7.96l-1.37-1.37c-.4-.4-.92-.59-1.43-.59-.52 0-1.04.2-1.43.59L10.3 9.45l-7.72 7.72c-.78.78-.78 2.05 0 2.83L4 21.41c.39.39.9.59 1.41.59.51 0 1.02-.2 1.41-.59l7.78-7.78 2.81-2.81c.8-.78.8-2.07 0-2.86zM5.41 20L4 18.59l7.72-7.72 1.47 1.35L5.41 20z\"/>\n",
              "  </svg>\n",
              "      </button>\n",
              "      \n",
              "  <style>\n",
              "    .colab-df-container {\n",
              "      display:flex;\n",
              "      flex-wrap:wrap;\n",
              "      gap: 12px;\n",
              "    }\n",
              "\n",
              "    .colab-df-convert {\n",
              "      background-color: #E8F0FE;\n",
              "      border: none;\n",
              "      border-radius: 50%;\n",
              "      cursor: pointer;\n",
              "      display: none;\n",
              "      fill: #1967D2;\n",
              "      height: 32px;\n",
              "      padding: 0 0 0 0;\n",
              "      width: 32px;\n",
              "    }\n",
              "\n",
              "    .colab-df-convert:hover {\n",
              "      background-color: #E2EBFA;\n",
              "      box-shadow: 0px 1px 2px rgba(60, 64, 67, 0.3), 0px 1px 3px 1px rgba(60, 64, 67, 0.15);\n",
              "      fill: #174EA6;\n",
              "    }\n",
              "\n",
              "    [theme=dark] .colab-df-convert {\n",
              "      background-color: #3B4455;\n",
              "      fill: #D2E3FC;\n",
              "    }\n",
              "\n",
              "    [theme=dark] .colab-df-convert:hover {\n",
              "      background-color: #434B5C;\n",
              "      box-shadow: 0px 1px 3px 1px rgba(0, 0, 0, 0.15);\n",
              "      filter: drop-shadow(0px 1px 2px rgba(0, 0, 0, 0.3));\n",
              "      fill: #FFFFFF;\n",
              "    }\n",
              "  </style>\n",
              "\n",
              "      <script>\n",
              "        const buttonEl =\n",
              "          document.querySelector('#df-1f796a85-3c5c-475d-bd4c-a00811cf1743 button.colab-df-convert');\n",
              "        buttonEl.style.display =\n",
              "          google.colab.kernel.accessAllowed ? 'block' : 'none';\n",
              "\n",
              "        async function convertToInteractive(key) {\n",
              "          const element = document.querySelector('#df-1f796a85-3c5c-475d-bd4c-a00811cf1743');\n",
              "          const dataTable =\n",
              "            await google.colab.kernel.invokeFunction('convertToInteractive',\n",
              "                                                     [key], {});\n",
              "          if (!dataTable) return;\n",
              "\n",
              "          const docLinkHtml = 'Like what you see? Visit the ' +\n",
              "            '<a target=\"_blank\" href=https://colab.research.google.com/notebooks/data_table.ipynb>data table notebook</a>'\n",
              "            + ' to learn more about interactive tables.';\n",
              "          element.innerHTML = '';\n",
              "          dataTable['output_type'] = 'display_data';\n",
              "          await google.colab.output.renderOutput(dataTable, element);\n",
              "          const docLink = document.createElement('div');\n",
              "          docLink.innerHTML = docLinkHtml;\n",
              "          element.appendChild(docLink);\n",
              "        }\n",
              "      </script>\n",
              "    </div>\n",
              "  </div>\n",
              "  "
            ]
          },
          "metadata": {},
          "execution_count": 98
        }
      ]
    },
    {
      "cell_type": "code",
      "source": [
        "# Split the data into training, testing, and validation sets\n",
        "train_size = int(0.7 * len(df))\n",
        "test_size = int(0.2 * len(df))\n",
        "val_size = len(df) - train_size - test_size\n",
        "\n",
        "train_data = df[:train_size]\n",
        "test_data = df[train_size:train_size+test_size]\n",
        "val_data = df[train_size+test_size:]"
      ],
      "metadata": {
        "id": "jW33Ktnnev8m"
      },
      "execution_count": 99,
      "outputs": []
    },
    {
      "cell_type": "code",
      "source": [
        "# 3. Quá trình Training\n",
        "x_train = np.array(train_data.index).reshape(-1, 1)\n",
        "y_train = np.array(train_data[['USO', 'GLD']])\n",
        "\n",
        "# 3. Huấn luyện mô hình VAR\n",
        "model = VAR(y_train)\n",
        "\n",
        "# Tìm ra số lượng lag tối ưu cho mô hình\n",
        "lag_order = model.select_order(maxlags=12)\n",
        "print(lag_order.summary())"
      ],
      "metadata": {
        "colab": {
          "base_uri": "https://localhost:8080/"
        },
        "outputId": "da819b04-d8bb-4c5c-e467-12b4e12b3c71",
        "id": "nDX3AdZiev8m"
      },
      "execution_count": 100,
      "outputs": [
        {
          "output_type": "stream",
          "name": "stdout",
          "text": [
            " VAR Order Selection (* highlights the minimums)  \n",
            "==================================================\n",
            "       AIC         BIC         FPE         HQIC   \n",
            "--------------------------------------------------\n",
            "0        12.14       12.14   1.868e+05       12.14\n",
            "1        1.216      1.237*       3.375       1.224\n",
            "2        1.211       1.244       3.356       1.223\n",
            "3        1.204       1.251       3.333       1.222\n",
            "4        1.195       1.255       3.302      1.217*\n",
            "5        1.196       1.270       3.306       1.223\n",
            "6        1.196       1.283       3.306       1.228\n",
            "7        1.198       1.300       3.315       1.236\n",
            "8        1.198       1.313       3.315       1.241\n",
            "9        1.196       1.324       3.307       1.244\n",
            "10       1.197       1.339       3.310       1.250\n",
            "11       1.195       1.350       3.303       1.253\n",
            "12      1.189*       1.358      3.283*       1.251\n",
            "--------------------------------------------------\n"
          ]
        }
      ]
    },
    {
      "cell_type": "code",
      "source": [
        "# Fit mô hình với số lượng lag tối ưu\n",
        "model_fit = model.fit(maxlags=lag_order.aic, ic='aic')"
      ],
      "metadata": {
        "id": "TQPFajDDev8m"
      },
      "execution_count": 101,
      "outputs": []
    },
    {
      "cell_type": "code",
      "source": [
        "# 4. Quá trình testing\n",
        "x_test = np.array(test_data.index).reshape(-1, 1)\n",
        "y_test = np.array(test_data[['USO', 'GLD']])\n",
        "y_pred = model_fit.forecast(y_test, len(y_test))\n",
        "\n",
        "# 5. Quá trình Validate\n",
        "x_val= np.array(val_data.index).reshape(-1, 1)\n",
        "y_val = np.array(val_data[['USO', 'GLD']])\n",
        "y_pred_val =  model_fit.forecast(y_val, len(y_val))"
      ],
      "metadata": {
        "id": "PlGiScFOev8m"
      },
      "execution_count": 102,
      "outputs": []
    },
    {
      "cell_type": "code",
      "source": [
        "# 6. Quá trình tạo index predict 30 ngày tiếp theo\n",
        "last_index =  df.index[-1]\n",
        "last_data = pd.RangeIndex(start=last_index, stop=last_index+30, step=1)\n",
        "\n",
        "# Create an array of 30 consecutive integers starting from last_index\n",
        "x_next_30_days = np.array(range(last_index+1, last_index+31)).reshape(-1, 1)\n",
        "\n",
        "# Predict the closing prices for the next 30 days\n",
        "y_next_30_days = model_fit.forecast(df.values, 30)\n",
        "\n",
        "# Print the predicted closing prices for the next 30 days\n",
        "print('Predicted closing prices for the next 30 days:')\n",
        "print(y_next_30_days)"
      ],
      "metadata": {
        "colab": {
          "base_uri": "https://localhost:8080/"
        },
        "outputId": "91cc867d-7159-455b-f040-3ee667d34838",
        "id": "IU-LDECFev8m"
      },
      "execution_count": 103,
      "outputs": [
        {
          "output_type": "stream",
          "name": "stdout",
          "text": [
            "Predicted closing prices for the next 30 days:\n",
            "[[ 14.34615315 122.75709182]\n",
            " [ 14.29309532 122.78037892]\n",
            " [ 14.42128538 123.05873242]\n",
            " [ 14.55974945 123.23215985]\n",
            " [ 14.68535447 123.26472036]\n",
            " [ 14.76701444 123.39972809]\n",
            " [ 14.899138   123.51337536]\n",
            " [ 15.07777248 123.75574911]\n",
            " [ 15.07786846 123.90648975]\n",
            " [ 15.16659504 124.00830985]\n",
            " [ 15.28921475 124.25038575]\n",
            " [ 15.31607265 124.33686136]\n",
            " [ 15.39626623 124.46895255]\n",
            " [ 15.46631707 124.59890086]\n",
            " [ 15.5286609  124.72237854]\n",
            " [ 15.59238165 124.86080104]\n",
            " [ 15.66184113 124.99202775]\n",
            " [ 15.73343051 125.12096687]\n",
            " [ 15.78466972 125.23788052]\n",
            " [ 15.84275968 125.35089089]\n",
            " [ 15.90535508 125.47958477]\n",
            " [ 15.95787287 125.59203319]\n",
            " [ 16.01445355 125.71140626]\n",
            " [ 16.07160351 125.82899066]\n",
            " [ 16.12643711 125.94444279]\n",
            " [ 16.18131374 126.0608013 ]\n",
            " [ 16.23708632 126.17667357]\n",
            " [ 16.29247578 126.29178421]\n",
            " [ 16.34574181 126.40536642]\n",
            " [ 16.3993704  126.51785898]]\n"
          ]
        }
      ]
    },
    {
      "cell_type": "code",
      "source": [
        "# 7. Đánh giá độ chính xác validate, test\n",
        "from sklearn.metrics import mean_absolute_percentage_error as MAPE\n",
        "from sklearn.metrics import mean_absolute_error as MAE\n",
        "from sklearn.metrics import mean_squared_error as MSE\n",
        "\n",
        "valid_rmse = np.sqrt(MSE(y_pred_val, y_val))\n",
        "test_rmse = np.sqrt(MSE(y_test, y_pred))\n",
        "valid_mape = MAPE(y_pred_val, y_val)*100\n",
        "test_mape = MAPE(y_test, y_pred)*100\n",
        "valid_mae = MAE(y_pred_val, y_val)\n",
        "test_mae = MAE(y_test, y_pred)\n",
        "\n",
        "print('Validation RMSE:', valid_rmse)\n",
        "print('Validation MAPE:', valid_mape)\n",
        "print('Validation MAE:', valid_mae)\n",
        "print('Testing RMSE:', test_rmse)\n",
        "print('Testing MAPE:', test_mape)\n",
        "print('Testing MAE:', test_mae)"
      ],
      "metadata": {
        "colab": {
          "base_uri": "https://localhost:8080/"
        },
        "outputId": "100ac41b-7243-4c6d-91c8-a3e5f935c348",
        "id": "qM3bL3ooev8n"
      },
      "execution_count": 104,
      "outputs": [
        {
          "output_type": "stream",
          "name": "stdout",
          "text": [
            "Validation RMSE: 10.061894555418359\n",
            "Validation MAPE: 25.773913645826376\n",
            "Validation MAE: 9.682092892648281\n",
            "Testing RMSE: 19.341779983301603\n",
            "Testing MAPE: 60.35261108823909\n",
            "Testing MAE: 17.206373918801113\n"
          ]
        }
      ]
    },
    {
      "cell_type": "code",
      "source": [
        "# 8.Vẽ hình\n",
        "plt.plot(train_data.index, train_data['GLD'])\n",
        "plt.plot(test_data.index, test_data['GLD'])\n",
        "plt.plot(test_data.index, y_pred)\n",
        "plt.plot(val_data.index, y_pred_val)\n",
        "plt.plot(last_data,y_next_30_days)\n",
        "plt.legend(['Train', 'Test', 'Predictions','Validate','Next30Day'])\n",
        "plt.show()"
      ],
      "metadata": {
        "colab": {
          "base_uri": "https://localhost:8080/",
          "height": 430
        },
        "id": "xFy3n5YNF9-J",
        "outputId": "f686a5a5-1436-40b7-b3be-c6f55da04263"
      },
      "execution_count": 105,
      "outputs": [
        {
          "output_type": "display_data",
          "data": {
            "text/plain": [
              "<Figure size 640x480 with 1 Axes>"
            ],
            "image/png": "[encoded data removed]"
          },
          "metadata": {}
        }
      ]
    },
    {
      "cell_type": "markdown",
      "source": [
        "### Price 2 8:1:1"
      ],
      "metadata": {
        "id": "AFwEtt3afGPZ"
      }
    },
    {
      "cell_type": "code",
      "execution_count": 106,
      "metadata": {
        "id": "kexyHnOKfGPg"
      },
      "outputs": [],
      "source": [
        "# 1. Các thư viện cần thiết\n",
        "import numpy as np\n",
        "import pandas as pd\n",
        "import matplotlib.pyplot as plt\n",
        "from statsmodels.tsa.vector_ar.var_model import VAR"
      ]
    },
    {
      "cell_type": "code",
      "source": [
        "# 2. Đọc file dữ liệu\n",
        "df = pd.read_csv('/content/drive/MyDrive/Study/IS403.N22.HTCL/final project/DATASET/Gold_Price_2.csv')\n",
        "df = df[['USO', 'GLD']]\n",
        "df = df.dropna() # Drop missing values\n",
        "df = df.reset_index(drop=True) # Reset the index\n",
        "df.head()"
      ],
      "metadata": {
        "colab": {
          "base_uri": "https://localhost:8080/",
          "height": 206
        },
        "outputId": "fe581e96-97c4-4beb-cd74-1f74d9ee6973",
        "id": "3eQBpVYvfGPg"
      },
      "execution_count": 107,
      "outputs": [
        {
          "output_type": "execute_result",
          "data": {
            "text/plain": [
              "         USO        GLD\n",
              "0  78.470001  84.860001\n",
              "1  78.370003  85.570000\n",
              "2  77.309998  85.129997\n",
              "3  75.500000  84.769997\n",
              "4  76.059998  86.779999"
            ],
            "text/html": [
              "\n",
              "  <div id=\"df-5683d9a2-ec92-44c8-8ecd-96a8bc9f05bb\">\n",
              "    <div class=\"colab-df-container\">\n",
              "      <div>\n",
              "<style scoped>\n",
              "    .dataframe tbody tr th:only-of-type {\n",
              "        vertical-align: middle;\n",
              "    }\n",
              "\n",
              "    .dataframe tbody tr th {\n",
              "        vertical-align: top;\n",
              "    }\n",
              "\n",
              "    .dataframe thead th {\n",
              "        text-align: right;\n",
              "    }\n",
              "</style>\n",
              "<table border=\"1\" class=\"dataframe\">\n",
              "  <thead>\n",
              "    <tr style=\"text-align: right;\">\n",
              "      <th></th>\n",
              "      <th>USO</th>\n",
              "      <th>GLD</th>\n",
              "    </tr>\n",
              "  </thead>\n",
              "  <tbody>\n",
              "    <tr>\n",
              "      <th>0</th>\n",
              "      <td>78.470001</td>\n",
              "      <td>84.860001</td>\n",
              "    </tr>\n",
              "    <tr>\n",
              "      <th>1</th>\n",
              "      <td>78.370003</td>\n",
              "      <td>85.570000</td>\n",
              "    </tr>\n",
              "    <tr>\n",
              "      <th>2</th>\n",
              "      <td>77.309998</td>\n",
              "      <td>85.129997</td>\n",
              "    </tr>\n",
              "    <tr>\n",
              "      <th>3</th>\n",
              "      <td>75.500000</td>\n",
              "      <td>84.769997</td>\n",
              "    </tr>\n",
              "    <tr>\n",
              "      <th>4</th>\n",
              "      <td>76.059998</td>\n",
              "      <td>86.779999</td>\n",
              "    </tr>\n",
              "  </tbody>\n",
              "</table>\n",
              "</div>\n",
              "      <button class=\"colab-df-convert\" onclick=\"convertToInteractive('df-5683d9a2-ec92-44c8-8ecd-96a8bc9f05bb')\"\n",
              "              title=\"Convert this dataframe to an interactive table.\"\n",
              "              style=\"display:none;\">\n",
              "        \n",
              "  <svg xmlns=\"http://www.w3.org/2000/svg\" height=\"24px\"viewBox=\"0 0 24 24\"\n",
              "       width=\"24px\">\n",
              "    <path d=\"M0 0h24v24H0V0z\" fill=\"none\"/>\n",
              "    <path d=\"M18.56 5.44l.94 2.06.94-2.06 2.06-.94-2.06-.94-.94-2.06-.94 2.06-2.06.94zm-11 1L8.5 8.5l.94-2.06 2.06-.94-2.06-.94L8.5 2.5l-.94 2.06-2.06.94zm10 10l.94 2.06.94-2.06 2.06-.94-2.06-.94-.94-2.06-.94 2.06-2.06.94z\"/><path d=\"M17.41 7.96l-1.37-1.37c-.4-.4-.92-.59-1.43-.59-.52 0-1.04.2-1.43.59L10.3 9.45l-7.72 7.72c-.78.78-.78 2.05 0 2.83L4 21.41c.39.39.9.59 1.41.59.51 0 1.02-.2 1.41-.59l7.78-7.78 2.81-2.81c.8-.78.8-2.07 0-2.86zM5.41 20L4 18.59l7.72-7.72 1.47 1.35L5.41 20z\"/>\n",
              "  </svg>\n",
              "      </button>\n",
              "      \n",
              "  <style>\n",
              "    .colab-df-container {\n",
              "      display:flex;\n",
              "      flex-wrap:wrap;\n",
              "      gap: 12px;\n",
              "    }\n",
              "\n",
              "    .colab-df-convert {\n",
              "      background-color: #E8F0FE;\n",
              "      border: none;\n",
              "      border-radius: 50%;\n",
              "      cursor: pointer;\n",
              "      display: none;\n",
              "      fill: #1967D2;\n",
              "      height: 32px;\n",
              "      padding: 0 0 0 0;\n",
              "      width: 32px;\n",
              "    }\n",
              "\n",
              "    .colab-df-convert:hover {\n",
              "      background-color: #E2EBFA;\n",
              "      box-shadow: 0px 1px 2px rgba(60, 64, 67, 0.3), 0px 1px 3px 1px rgba(60, 64, 67, 0.15);\n",
              "      fill: #174EA6;\n",
              "    }\n",
              "\n",
              "    [theme=dark] .colab-df-convert {\n",
              "      background-color: #3B4455;\n",
              "      fill: #D2E3FC;\n",
              "    }\n",
              "\n",
              "    [theme=dark] .colab-df-convert:hover {\n",
              "      background-color: #434B5C;\n",
              "      box-shadow: 0px 1px 3px 1px rgba(0, 0, 0, 0.15);\n",
              "      filter: drop-shadow(0px 1px 2px rgba(0, 0, 0, 0.3));\n",
              "      fill: #FFFFFF;\n",
              "    }\n",
              "  </style>\n",
              "\n",
              "      <script>\n",
              "        const buttonEl =\n",
              "          document.querySelector('#df-5683d9a2-ec92-44c8-8ecd-96a8bc9f05bb button.colab-df-convert');\n",
              "        buttonEl.style.display =\n",
              "          google.colab.kernel.accessAllowed ? 'block' : 'none';\n",
              "\n",
              "        async function convertToInteractive(key) {\n",
              "          const element = document.querySelector('#df-5683d9a2-ec92-44c8-8ecd-96a8bc9f05bb');\n",
              "          const dataTable =\n",
              "            await google.colab.kernel.invokeFunction('convertToInteractive',\n",
              "                                                     [key], {});\n",
              "          if (!dataTable) return;\n",
              "\n",
              "          const docLinkHtml = 'Like what you see? Visit the ' +\n",
              "            '<a target=\"_blank\" href=https://colab.research.google.com/notebooks/data_table.ipynb>data table notebook</a>'\n",
              "            + ' to learn more about interactive tables.';\n",
              "          element.innerHTML = '';\n",
              "          dataTable['output_type'] = 'display_data';\n",
              "          await google.colab.output.renderOutput(dataTable, element);\n",
              "          const docLink = document.createElement('div');\n",
              "          docLink.innerHTML = docLinkHtml;\n",
              "          element.appendChild(docLink);\n",
              "        }\n",
              "      </script>\n",
              "    </div>\n",
              "  </div>\n",
              "  "
            ]
          },
          "metadata": {},
          "execution_count": 107
        }
      ]
    },
    {
      "cell_type": "code",
      "source": [
        "# Split the data into training, testing, and validation sets\n",
        "train_size = int(0.8 * len(df))\n",
        "test_size = int(0.1 * len(df))\n",
        "val_size = len(df) - train_size - test_size\n",
        "\n",
        "train_data = df[:train_size]\n",
        "test_data = df[train_size:train_size+test_size]\n",
        "val_data = df[train_size+test_size:]"
      ],
      "metadata": {
        "id": "yDP6RzXifGPg"
      },
      "execution_count": 108,
      "outputs": []
    },
    {
      "cell_type": "code",
      "source": [
        "# 3. Quá trình Training\n",
        "x_train = np.array(train_data.index).reshape(-1, 1)\n",
        "y_train = np.array(train_data[['USO', 'GLD']])\n",
        "\n",
        "# 3. Huấn luyện mô hình VAR\n",
        "model = VAR(y_train)\n",
        "\n",
        "# Tìm ra số lượng lag tối ưu cho mô hình\n",
        "lag_order = model.select_order(maxlags=12)\n",
        "print(lag_order.summary())"
      ],
      "metadata": {
        "colab": {
          "base_uri": "https://localhost:8080/"
        },
        "outputId": "4f7a327e-5447-4893-decf-ddc0e0463c1b",
        "id": "-YfRV4jKfGPh"
      },
      "execution_count": 109,
      "outputs": [
        {
          "output_type": "stream",
          "name": "stdout",
          "text": [
            " VAR Order Selection (* highlights the minimums)  \n",
            "==================================================\n",
            "       AIC         BIC         FPE         HQIC   \n",
            "--------------------------------------------------\n",
            "0        12.26       12.27   2.121e+05       12.27\n",
            "1        1.030      1.049*       2.802       1.037\n",
            "2        1.025       1.055       2.786       1.036\n",
            "3        1.018       1.061       2.768       1.034\n",
            "4        1.009       1.064       2.744      1.029*\n",
            "5        1.010       1.077       2.746       1.035\n",
            "6        1.010       1.089       2.746       1.039\n",
            "7        1.013       1.103       2.753       1.046\n",
            "8        1.013       1.115       2.753       1.051\n",
            "9        1.010       1.125       2.746       1.053\n",
            "10       1.011       1.138       2.748       1.058\n",
            "11       1.008       1.147       2.740       1.059\n",
            "12      1.003*       1.154      2.725*       1.058\n",
            "--------------------------------------------------\n"
          ]
        }
      ]
    },
    {
      "cell_type": "code",
      "source": [
        "# Fit mô hình với số lượng lag tối ưu\n",
        "model_fit = model.fit(maxlags=lag_order.aic, ic='aic')"
      ],
      "metadata": {
        "id": "o2liPpewfGPh"
      },
      "execution_count": 110,
      "outputs": []
    },
    {
      "cell_type": "code",
      "source": [
        "# 4. Quá trình testing\n",
        "x_test = np.array(test_data.index).reshape(-1, 1)\n",
        "y_test = np.array(test_data[['USO', 'GLD']])\n",
        "y_pred = model_fit.forecast(y_test, len(y_test))\n",
        "\n",
        "# 5. Quá trình Validate\n",
        "x_val= np.array(val_data.index).reshape(-1, 1)\n",
        "y_val = np.array(val_data[['USO', 'GLD']])\n",
        "y_pred_val =  model_fit.forecast(y_val, len(y_val))"
      ],
      "metadata": {
        "id": "ijknY0rUfGPh"
      },
      "execution_count": 111,
      "outputs": []
    },
    {
      "cell_type": "code",
      "source": [
        "# 6. Quá trình tạo index predict 30 ngày tiếp theo\n",
        "last_index =  df.index[-1]\n",
        "last_data = pd.RangeIndex(start=last_index, stop=last_index+30, step=1)\n",
        "\n",
        "# Create an array of 30 consecutive integers starting from last_index\n",
        "x_next_30_days = np.array(range(last_index+1, last_index+31)).reshape(-1, 1)\n",
        "\n",
        "# Predict the closing prices for the next 30 days\n",
        "y_next_30_days = model_fit.forecast(df.values, 30)\n",
        "\n",
        "# Print the predicted closing prices for the next 30 days\n",
        "print('Predicted closing prices for the next 30 days:')\n",
        "print(y_next_30_days)"
      ],
      "metadata": {
        "colab": {
          "base_uri": "https://localhost:8080/"
        },
        "outputId": "1e40eca8-de6f-4105-d255-b4b34279e05e",
        "id": "c5EznQjofGPh"
      },
      "execution_count": 112,
      "outputs": [
        {
          "output_type": "stream",
          "name": "stdout",
          "text": [
            "Predicted closing prices for the next 30 days:\n",
            "[[ 14.32781496 122.70853759]\n",
            " [ 14.25427398 122.71268457]\n",
            " [ 14.35405369 122.91898594]\n",
            " [ 14.46311332 123.02023228]\n",
            " [ 14.55367005 123.01735907]\n",
            " [ 14.60602431 123.11148296]\n",
            " [ 14.70543972 123.1688015 ]\n",
            " [ 14.84565202 123.34242493]\n",
            " [ 14.82290562 123.4505054 ]\n",
            " [ 14.88144819 123.50813602]\n",
            " [ 14.97329999 123.68962421]\n",
            " [ 14.97508072 123.73389419]\n",
            " [ 15.02384378 123.81673817]\n",
            " [ 15.0662249  123.90289629]\n",
            " [ 15.10095434 123.98255212]\n",
            " [ 15.13658552 124.07402705]\n",
            " [ 15.17734834 124.16019747]\n",
            " [ 15.22016949 124.24370254]\n",
            " [ 15.244971   124.31799003]\n",
            " [ 15.27551129 124.38853882]\n",
            " [ 15.31059409 124.47288521]\n",
            " [ 15.33649435 124.54352464]\n",
            " [ 15.36578018 124.61958561]\n",
            " [ 15.39601678 124.69515705]\n",
            " [ 15.42405384 124.7687365 ]\n",
            " [ 15.45225971 124.84314843]\n",
            " [ 15.48136194 124.91771303]\n",
            " [ 15.51015422 124.99160956]\n",
            " [ 15.53723428 125.06446286]\n",
            " [ 15.56466331 125.13658428]]\n"
          ]
        }
      ]
    },
    {
      "cell_type": "code",
      "source": [
        "# 7. Đánh giá độ chính xác validate, test\n",
        "from sklearn.metrics import mean_absolute_percentage_error as MAPE\n",
        "from sklearn.metrics import mean_absolute_error as MAE\n",
        "from sklearn.metrics import mean_squared_error as MSE\n",
        "\n",
        "valid_rmse = np.sqrt(MSE(y_pred_val, y_val))\n",
        "test_rmse = np.sqrt(MSE(y_test, y_pred))\n",
        "valid_mape = MAPE(y_pred_val, y_val)*100\n",
        "test_mape = MAPE(y_test, y_pred)*100\n",
        "valid_mae = MAE(y_pred_val, y_val)\n",
        "test_mae = MAE(y_test, y_pred)\n",
        "\n",
        "print('Validation RMSE:', valid_rmse)\n",
        "print('Validation MAPE:', valid_mape)\n",
        "print('Validation MAE:', valid_mae)\n",
        "print('Testing RMSE:', test_rmse)\n",
        "print('Testing MAPE:', test_mape)\n",
        "print('Testing MAE:', test_mae)"
      ],
      "metadata": {
        "colab": {
          "base_uri": "https://localhost:8080/"
        },
        "outputId": "ce30fe07-60b0-449c-b5de-c27a4d716b00",
        "id": "CLRJRfoMfGPh"
      },
      "execution_count": 113,
      "outputs": [
        {
          "output_type": "stream",
          "name": "stdout",
          "text": [
            "Validation RMSE: 6.993068553721901\n",
            "Validation MAPE: 20.894860699520066\n",
            "Validation MAE: 6.753210587385148\n",
            "Testing RMSE: 9.444542345457721\n",
            "Testing MAPE: 19.978482785261633\n",
            "Testing MAE: 6.799760566375205\n"
          ]
        }
      ]
    },
    {
      "cell_type": "code",
      "source": [
        "# 8.Vẽ hình\n",
        "plt.plot(train_data.index, train_data['GLD'])\n",
        "plt.plot(test_data.index, test_data['GLD'])\n",
        "plt.plot(test_data.index, y_pred)\n",
        "plt.plot(val_data.index, y_pred_val)\n",
        "plt.plot(last_data,y_next_30_days)\n",
        "plt.legend(['Train', 'Test', 'Predictions','Validate','Next30Day'])\n",
        "plt.show()"
      ],
      "metadata": {
        "colab": {
          "base_uri": "https://localhost:8080/",
          "height": 430
        },
        "id": "A53G3ti8F-sG",
        "outputId": "614aebff-73e8-4c4b-d4f3-4807b5eee291"
      },
      "execution_count": 114,
      "outputs": [
        {
          "output_type": "display_data",
          "data": {
            "text/plain": [
              "<Figure size 640x480 with 1 Axes>"
            ],
            "image/png": "[encoded data removed]"
          },
          "metadata": {}
        }
      ]
    },
    {
      "cell_type": "markdown",
      "source": [
        "## Price_3"
      ],
      "metadata": {
        "id": "z0VeKKI5E6ih"
      }
    },
    {
      "cell_type": "markdown",
      "source": [
        "### Price 3 6:3:1"
      ],
      "metadata": {
        "id": "l5iVQDzJFCtR"
      }
    },
    {
      "cell_type": "code",
      "execution_count": 115,
      "metadata": {
        "id": "z68h00swoOGw"
      },
      "outputs": [],
      "source": [
        "# 1. Các thư viện cần thiết\n",
        "import numpy as np\n",
        "import pandas as pd\n",
        "import matplotlib.pyplot as plt\n",
        "from statsmodels.tsa.vector_ar.var_model import VAR"
      ]
    },
    {
      "cell_type": "code",
      "source": [
        "# 2. Đọc file dữ liệu giá vàng và chia train test validate theo tỉ lệ 7:1:2\n",
        "df = pd.read_csv('/content/drive/MyDrive/Study/IS403.N22.HTCL/final project/DATASET/Gold_Price_3.csv')\n",
        "df = df[['Open', 'Close']]\n",
        "df = df.dropna() # Drop missing values\n",
        "df = df.reset_index(drop=True) # Reset the index\n",
        "df.head()"
      ],
      "metadata": {
        "id": "fNUa0h8mo6h4",
        "colab": {
          "base_uri": "https://localhost:8080/",
          "height": 206
        },
        "outputId": "7dd8e67e-a3db-40a5-c93c-a00860efcde7"
      },
      "execution_count": 116,
      "outputs": [
        {
          "output_type": "execute_result",
          "data": {
            "text/plain": [
              "          Open        Close\n",
              "0  1292.699951  1290.699951\n",
              "1  1286.900024  1273.300049\n",
              "2  1282.900024  1271.400024\n",
              "3  1278.599976  1292.900024\n",
              "4  1286.500000  1265.599976"
            ],
            "text/html": [
              "\n",
              "  <div id=\"df-4f2f6c49-b03f-4b8c-91ba-2d3ab3aa4a02\">\n",
              "    <div class=\"colab-df-container\">\n",
              "      <div>\n",
              "<style scoped>\n",
              "    .dataframe tbody tr th:only-of-type {\n",
              "        vertical-align: middle;\n",
              "    }\n",
              "\n",
              "    .dataframe tbody tr th {\n",
              "        vertical-align: top;\n",
              "    }\n",
              "\n",
              "    .dataframe thead th {\n",
              "        text-align: right;\n",
              "    }\n",
              "</style>\n",
              "<table border=\"1\" class=\"dataframe\">\n",
              "  <thead>\n",
              "    <tr style=\"text-align: right;\">\n",
              "      <th></th>\n",
              "      <th>Open</th>\n",
              "      <th>Close</th>\n",
              "    </tr>\n",
              "  </thead>\n",
              "  <tbody>\n",
              "    <tr>\n",
              "      <th>0</th>\n",
              "      <td>1292.699951</td>\n",
              "      <td>1290.699951</td>\n",
              "    </tr>\n",
              "    <tr>\n",
              "      <th>1</th>\n",
              "      <td>1286.900024</td>\n",
              "      <td>1273.300049</td>\n",
              "    </tr>\n",
              "    <tr>\n",
              "      <th>2</th>\n",
              "      <td>1282.900024</td>\n",
              "      <td>1271.400024</td>\n",
              "    </tr>\n",
              "    <tr>\n",
              "      <th>3</th>\n",
              "      <td>1278.599976</td>\n",
              "      <td>1292.900024</td>\n",
              "    </tr>\n",
              "    <tr>\n",
              "      <th>4</th>\n",
              "      <td>1286.500000</td>\n",
              "      <td>1265.599976</td>\n",
              "    </tr>\n",
              "  </tbody>\n",
              "</table>\n",
              "</div>\n",
              "      <button class=\"colab-df-convert\" onclick=\"convertToInteractive('df-4f2f6c49-b03f-4b8c-91ba-2d3ab3aa4a02')\"\n",
              "              title=\"Convert this dataframe to an interactive table.\"\n",
              "              style=\"display:none;\">\n",
              "        \n",
              "  <svg xmlns=\"http://www.w3.org/2000/svg\" height=\"24px\"viewBox=\"0 0 24 24\"\n",
              "       width=\"24px\">\n",
              "    <path d=\"M0 0h24v24H0V0z\" fill=\"none\"/>\n",
              "    <path d=\"M18.56 5.44l.94 2.06.94-2.06 2.06-.94-2.06-.94-.94-2.06-.94 2.06-2.06.94zm-11 1L8.5 8.5l.94-2.06 2.06-.94-2.06-.94L8.5 2.5l-.94 2.06-2.06.94zm10 10l.94 2.06.94-2.06 2.06-.94-2.06-.94-.94-2.06-.94 2.06-2.06.94z\"/><path d=\"M17.41 7.96l-1.37-1.37c-.4-.4-.92-.59-1.43-.59-.52 0-1.04.2-1.43.59L10.3 9.45l-7.72 7.72c-.78.78-.78 2.05 0 2.83L4 21.41c.39.39.9.59 1.41.59.51 0 1.02-.2 1.41-.59l7.78-7.78 2.81-2.81c.8-.78.8-2.07 0-2.86zM5.41 20L4 18.59l7.72-7.72 1.47 1.35L5.41 20z\"/>\n",
              "  </svg>\n",
              "      </button>\n",
              "      \n",
              "  <style>\n",
              "    .colab-df-container {\n",
              "      display:flex;\n",
              "      flex-wrap:wrap;\n",
              "      gap: 12px;\n",
              "    }\n",
              "\n",
              "    .colab-df-convert {\n",
              "      background-color: #E8F0FE;\n",
              "      border: none;\n",
              "      border-radius: 50%;\n",
              "      cursor: pointer;\n",
              "      display: none;\n",
              "      fill: #1967D2;\n",
              "      height: 32px;\n",
              "      padding: 0 0 0 0;\n",
              "      width: 32px;\n",
              "    }\n",
              "\n",
              "    .colab-df-convert:hover {\n",
              "      background-color: #E2EBFA;\n",
              "      box-shadow: 0px 1px 2px rgba(60, 64, 67, 0.3), 0px 1px 3px 1px rgba(60, 64, 67, 0.15);\n",
              "      fill: #174EA6;\n",
              "    }\n",
              "\n",
              "    [theme=dark] .colab-df-convert {\n",
              "      background-color: #3B4455;\n",
              "      fill: #D2E3FC;\n",
              "    }\n",
              "\n",
              "    [theme=dark] .colab-df-convert:hover {\n",
              "      background-color: #434B5C;\n",
              "      box-shadow: 0px 1px 3px 1px rgba(0, 0, 0, 0.15);\n",
              "      filter: drop-shadow(0px 1px 2px rgba(0, 0, 0, 0.3));\n",
              "      fill: #FFFFFF;\n",
              "    }\n",
              "  </style>\n",
              "\n",
              "      <script>\n",
              "        const buttonEl =\n",
              "          document.querySelector('#df-4f2f6c49-b03f-4b8c-91ba-2d3ab3aa4a02 button.colab-df-convert');\n",
              "        buttonEl.style.display =\n",
              "          google.colab.kernel.accessAllowed ? 'block' : 'none';\n",
              "\n",
              "        async function convertToInteractive(key) {\n",
              "          const element = document.querySelector('#df-4f2f6c49-b03f-4b8c-91ba-2d3ab3aa4a02');\n",
              "          const dataTable =\n",
              "            await google.colab.kernel.invokeFunction('convertToInteractive',\n",
              "                                                     [key], {});\n",
              "          if (!dataTable) return;\n",
              "\n",
              "          const docLinkHtml = 'Like what you see? Visit the ' +\n",
              "            '<a target=\"_blank\" href=https://colab.research.google.com/notebooks/data_table.ipynb>data table notebook</a>'\n",
              "            + ' to learn more about interactive tables.';\n",
              "          element.innerHTML = '';\n",
              "          dataTable['output_type'] = 'display_data';\n",
              "          await google.colab.output.renderOutput(dataTable, element);\n",
              "          const docLink = document.createElement('div');\n",
              "          docLink.innerHTML = docLinkHtml;\n",
              "          element.appendChild(docLink);\n",
              "        }\n",
              "      </script>\n",
              "    </div>\n",
              "  </div>\n",
              "  "
            ]
          },
          "metadata": {},
          "execution_count": 116
        }
      ]
    },
    {
      "cell_type": "code",
      "source": [
        "# Split the data into training, testing, and validation sets\n",
        "train_size = int(0.6 * len(df))\n",
        "test_size = int(0.3 * len(df))\n",
        "val_size = len(df) - train_size - test_size\n",
        "\n",
        "train_data = df[:train_size]\n",
        "test_data = df[train_size:train_size+test_size]\n",
        "val_data = df[train_size+test_size:]"
      ],
      "metadata": {
        "id": "Y5Ok-WrqpMck"
      },
      "execution_count": 117,
      "outputs": []
    },
    {
      "cell_type": "code",
      "source": [
        "# 3. Quá trình Training\n",
        "x_train = np.array(train_data.index).reshape(-1, 1)\n",
        "y_train = np.array(train_data[['Open', 'Close']])\n",
        "\n",
        "# 3. Huấn luyện mô hình VAR\n",
        "model = VAR(y_train)\n",
        "\n",
        "# Tìm ra số lượng lag tối ưu cho mô hình\n",
        "lag_order = model.select_order(maxlags=12)\n",
        "print(lag_order.summary())"
      ],
      "metadata": {
        "colab": {
          "base_uri": "https://localhost:8080/"
        },
        "id": "o4T8eIDzpQse",
        "outputId": "da83c8ca-2f0d-45f8-a185-05eaec989458"
      },
      "execution_count": 118,
      "outputs": [
        {
          "output_type": "stream",
          "name": "stdout",
          "text": [
            " VAR Order Selection (* highlights the minimums)  \n",
            "==================================================\n",
            "       AIC         BIC         FPE         HQIC   \n",
            "--------------------------------------------------\n",
            "0        14.85       14.86   2.818e+06       14.86\n",
            "1        8.576      8.605*       5305.       8.587\n",
            "2        8.566       8.614       5252.      8.584*\n",
            "3        8.573       8.639       5287.       8.598\n",
            "4        8.576       8.662       5304.       8.609\n",
            "5        8.577       8.681       5306.       8.616\n",
            "6        8.547       8.670       5150.       8.594\n",
            "7        8.544       8.686       5135.       8.598\n",
            "8       8.544*       8.705      5134.*       8.605\n",
            "9        8.549       8.729       5163.       8.618\n",
            "10       8.550       8.749       5165.       8.625\n",
            "11       8.554       8.772       5186.       8.636\n",
            "12       8.553       8.790       5183.       8.643\n",
            "--------------------------------------------------\n"
          ]
        }
      ]
    },
    {
      "cell_type": "code",
      "source": [
        "# Fit mô hình với số lượng lag tối ưu\n",
        "model_fit = model.fit(maxlags=lag_order.aic, ic='aic')"
      ],
      "metadata": {
        "id": "kaPZ3gnqpmG-"
      },
      "execution_count": 119,
      "outputs": []
    },
    {
      "cell_type": "code",
      "source": [
        "print(model_fit.summary())"
      ],
      "metadata": {
        "colab": {
          "base_uri": "https://localhost:8080/"
        },
        "id": "VgHMSPld5QCf",
        "outputId": "256ea318-5e4a-4371-df6a-74ce067012fd"
      },
      "execution_count": 120,
      "outputs": [
        {
          "output_type": "stream",
          "name": "stdout",
          "text": [
            "  Summary of Regression Results   \n",
            "==================================\n",
            "Model:                         VAR\n",
            "Method:                        OLS\n",
            "Date:           Wed, 21, Jun, 2023\n",
            "Time:                     03:57:05\n",
            "--------------------------------------------------------------------\n",
            "No. of Equations:         2.00000    BIC:                    8.69710\n",
            "Nobs:                     1048.00    HQIC:                   8.59731\n",
            "Log likelihood:          -7413.15    FPE:                    5096.77\n",
            "AIC:                      8.53636    Det(Omega_mle):         4935.36\n",
            "--------------------------------------------------------------------\n",
            "Results for equation y1\n",
            "========================================================================\n",
            "           coefficient       std. error           t-stat            prob\n",
            "------------------------------------------------------------------------\n",
            "const        -4.276264         1.872444           -2.284           0.022\n",
            "L1.y1        -0.117371         0.034161           -3.436           0.001\n",
            "L1.y2         1.002654         0.017839           56.206           0.000\n",
            "L2.y1        -0.030335         0.034373           -0.883           0.377\n",
            "L2.y2         0.133732         0.036070            3.708           0.000\n",
            "L3.y1         0.018704         0.034418            0.543           0.587\n",
            "L3.y2         0.002084         0.036376            0.057           0.954\n",
            "L4.y1        -0.022110         0.034380           -0.643           0.520\n",
            "L4.y2        -0.042800         0.036231           -1.181           0.237\n",
            "L5.y1         0.062231         0.034346            1.812           0.070\n",
            "L5.y2         0.040191         0.036137            1.112           0.266\n",
            "L6.y1         0.082717         0.034353            2.408           0.016\n",
            "L6.y2        -0.137985         0.036088           -3.824           0.000\n",
            "L7.y1         0.036444         0.034453            1.058           0.290\n",
            "L7.y2        -0.014990         0.036281           -0.413           0.679\n",
            "L8.y1         0.037259         0.017994            2.071           0.038\n",
            "L8.y2        -0.046795         0.036404           -1.285           0.199\n",
            "========================================================================\n",
            "\n",
            "Results for equation y2\n",
            "========================================================================\n",
            "           coefficient       std. error           t-stat            prob\n",
            "------------------------------------------------------------------------\n",
            "const        -2.545476         3.587179           -0.710           0.478\n",
            "L1.y1        -0.017598         0.065445           -0.269           0.788\n",
            "L1.y2         1.002083         0.034175           29.322           0.000\n",
            "L2.y1        -0.092210         0.065851           -1.400           0.161\n",
            "L2.y2         0.054304         0.069102            0.786           0.432\n",
            "L3.y1         0.019763         0.065937            0.300           0.764\n",
            "L3.y2         0.037170         0.069687            0.533           0.594\n",
            "L4.y1        -0.045404         0.065864           -0.689           0.491\n",
            "L4.y2        -0.043526         0.069411           -0.627           0.531\n",
            "L5.y1         0.098261         0.065799            1.493           0.135\n",
            "L5.y2         0.026467         0.069229            0.382           0.702\n",
            "L6.y1         0.283421         0.065812            4.306           0.000\n",
            "L6.y2        -0.195821         0.069137           -2.832           0.005\n",
            "L7.y1         0.019446         0.066003            0.295           0.768\n",
            "L7.y2        -0.197154         0.069506           -2.837           0.005\n",
            "L8.y1         0.078735         0.034472            2.284           0.022\n",
            "L8.y2        -0.025670         0.069742           -0.368           0.713\n",
            "========================================================================\n",
            "\n",
            "Correlation matrix of residuals\n",
            "            y1        y2\n",
            "y1    1.000000  0.414483\n",
            "y2    0.414483  1.000000\n",
            "\n",
            "\n",
            "\n"
          ]
        }
      ]
    },
    {
      "cell_type": "code",
      "source": [
        "# 4. Quá trình testing\n",
        "x_test = np.array(test_data.index).reshape(-1, 1)\n",
        "y_test = np.array(test_data[['Open', 'Close']])\n",
        "y_pred = model_fit.forecast(y_test, len(y_test))\n",
        "\n",
        "# 5. Quá trình Validate\n",
        "x_val= np.array(val_data.index).reshape(-1, 1)\n",
        "y_val = np.array(val_data[['Open', 'Close']])\n",
        "y_pred_val =  model_fit.forecast(y_val, len(y_val))"
      ],
      "metadata": {
        "id": "ZegOaWJSqgwe"
      },
      "execution_count": 121,
      "outputs": []
    },
    {
      "cell_type": "code",
      "source": [
        "# 6. Quá trình tạo index predict 30 ngày tiếp theo\n",
        "last_index =  df.index[-1]\n",
        "last_data = pd.RangeIndex(start=last_index, stop=last_index+30, step=1)\n",
        "\n",
        "# Create an array of 30 consecutive integers starting from last_index\n",
        "x_next_30_days = np.array(range(last_index+1, last_index+31)).reshape(-1, 1)\n",
        "\n",
        "# Predict the closing prices for the next 30 days\n",
        "y_next_30_days = model_fit.forecast(df.values, 30)\n",
        "\n",
        "# Print the predicted closing prices for the next 30 days\n",
        "print('Predicted closing prices for the next 30 days:')\n",
        "print(y_next_30_days)"
      ],
      "metadata": {
        "colab": {
          "base_uri": "https://localhost:8080/"
        },
        "id": "cFgqAJVMpW1J",
        "outputId": "d5395403-e3dd-41a6-a237-3e5f0fe6aecf"
      },
      "execution_count": 122,
      "outputs": [
        {
          "output_type": "stream",
          "name": "stdout",
          "text": [
            "Predicted closing prices for the next 30 days:\n",
            "[[2016.76301799 2018.95423492]\n",
            " [2022.94821527 2022.85602824]\n",
            " [2025.9729742  2026.37669015]\n",
            " [2027.37436784 2025.57122007]\n",
            " [2028.1279941  2024.5656782 ]\n",
            " [2024.85064967 2024.38223059]\n",
            " [2026.55456828 2023.72036353]\n",
            " [2025.91661149 2024.51543714]\n",
            " [2027.203589   2026.32121257]\n",
            " [2029.43846291 2028.72985188]\n",
            " [2031.77487458 2031.46939178]\n",
            " [2034.47578792 2033.78603922]\n",
            " [2036.90111245 2036.61844714]\n",
            " [2039.52983903 2038.98055845]\n",
            " [2041.93379069 2041.42215108]\n",
            " [2044.29512017 2043.70434875]\n",
            " [2046.52428533 2045.8430097 ]\n",
            " [2048.7145441  2048.01376389]\n",
            " [2050.83451494 2050.14013288]\n",
            " [2053.0152186  2052.29178773]\n",
            " [2055.16018887 2054.45851716]\n",
            " [2057.34876436 2056.64447872]\n",
            " [2059.55573144 2058.85885656]\n",
            " [2061.7766201  2061.09547769]\n",
            " [2064.02741955 2063.33813583]\n",
            " [2066.27699875 2065.59749012]\n",
            " [2068.54178867 2067.85371184]\n",
            " [2070.80602559 2070.11837889]\n",
            " [2073.07563173 2072.38438206]\n",
            " [2075.34783924 2074.65203574]]\n"
          ]
        }
      ]
    },
    {
      "cell_type": "code",
      "source": [
        "# 7. Đánh giá độ chính xác validate, test\n",
        "from sklearn.metrics import mean_absolute_percentage_error as MAPE\n",
        "from sklearn.metrics import mean_absolute_error as MAE\n",
        "from sklearn.metrics import mean_squared_error as MSE\n",
        "\n",
        "valid_rmse = np.sqrt(MSE(y_pred_val, y_val))\n",
        "test_rmse = np.sqrt(MSE(y_test, y_pred))\n",
        "valid_mape = MAPE(y_pred_val, y_val)*100\n",
        "test_mape = MAPE(y_test, y_pred)*100\n",
        "valid_mae = MAE(y_pred_val, y_val)\n",
        "test_mae = MAE(y_test, y_pred)\n",
        "\n",
        "print('Validation RMSE:', valid_rmse)\n",
        "print('Validation MAPE:', valid_mape)\n",
        "print('Validation MAE:', valid_mae)\n",
        "print('Testing RMSE:', test_rmse)\n",
        "print('Testing MAPE:', test_mape)\n",
        "print('Testing MAE:', test_mae)"
      ],
      "metadata": {
        "colab": {
          "base_uri": "https://localhost:8080/"
        },
        "id": "tSKPgAmLpYHB",
        "outputId": "45e0657d-4b7b-425b-9d74-4122bdf64cf4"
      },
      "execution_count": 123,
      "outputs": [
        {
          "output_type": "stream",
          "name": "stdout",
          "text": [
            "Validation RMSE: 418.4722335253069\n",
            "Validation MAPE: 18.591689921044374\n",
            "Validation MAE: 414.4035376975039\n",
            "Testing RMSE: 751.385389207666\n",
            "Testing MAPE: 33.15671790942356\n",
            "Testing MAE: 603.0980169420312\n"
          ]
        }
      ]
    },
    {
      "cell_type": "code",
      "source": [
        "# 8.Vẽ hình\n",
        "plt.plot(train_data.index, train_data['Close'])\n",
        "plt.plot(test_data.index, test_data['Close'])\n",
        "plt.plot(test_data.index, y_pred)\n",
        "plt.plot(val_data.index, y_pred_val)\n",
        "plt.plot(last_data,y_next_30_days)\n",
        "plt.legend(['Train', 'Test', 'Predictions','Validate','Next30Day'])\n",
        "plt.show()"
      ],
      "metadata": {
        "colab": {
          "base_uri": "https://localhost:8080/",
          "height": 434
        },
        "id": "xosfU9M0GhAo",
        "outputId": "40ab3891-9374-4c48-932e-ec516d2a0370"
      },
      "execution_count": 124,
      "outputs": [
        {
          "output_type": "display_data",
          "data": {
            "text/plain": [
              "<Figure size 640x480 with 1 Axes>"
            ],
            "image/png": "[encoded data removed]"
          },
          "metadata": {}
        }
      ]
    },
    {
      "cell_type": "markdown",
      "source": [
        "### Price 3 7:2:1"
      ],
      "metadata": {
        "id": "VWFtdtZZcvfl"
      }
    },
    {
      "cell_type": "code",
      "execution_count": 125,
      "metadata": {
        "id": "AeFfGOlKcvfl"
      },
      "outputs": [],
      "source": [
        "# 1. Các thư viện cần thiết\n",
        "import numpy as np\n",
        "import pandas as pd\n",
        "import matplotlib.pyplot as plt\n",
        "from statsmodels.tsa.vector_ar.var_model import VAR"
      ]
    },
    {
      "cell_type": "code",
      "source": [
        "# 2. Đọc file dữ liệu giá vàng và chia train test validate theo tỉ lệ 7:1:2\n",
        "df = pd.read_csv('/content/drive/MyDrive/Study/IS403.N22.HTCL/final project/DATASET/Gold_Price_3.csv')\n",
        "df = df[['Open', 'Close']]\n",
        "df = df.dropna() # Drop missing values\n",
        "df = df.reset_index(drop=True) # Reset the index\n",
        "df.head()"
      ],
      "metadata": {
        "colab": {
          "base_uri": "https://localhost:8080/",
          "height": 206
        },
        "outputId": "4fb0aa82-1896-4a15-e898-209f00b0032a",
        "id": "18ELgn5Icvfm"
      },
      "execution_count": 126,
      "outputs": [
        {
          "output_type": "execute_result",
          "data": {
            "text/plain": [
              "          Open        Close\n",
              "0  1292.699951  1290.699951\n",
              "1  1286.900024  1273.300049\n",
              "2  1282.900024  1271.400024\n",
              "3  1278.599976  1292.900024\n",
              "4  1286.500000  1265.599976"
            ],
            "text/html": [
              "\n",
              "  <div id=\"df-0adadb85-438d-489e-b1bb-f9039a6a5022\">\n",
              "    <div class=\"colab-df-container\">\n",
              "      <div>\n",
              "<style scoped>\n",
              "    .dataframe tbody tr th:only-of-type {\n",
              "        vertical-align: middle;\n",
              "    }\n",
              "\n",
              "    .dataframe tbody tr th {\n",
              "        vertical-align: top;\n",
              "    }\n",
              "\n",
              "    .dataframe thead th {\n",
              "        text-align: right;\n",
              "    }\n",
              "</style>\n",
              "<table border=\"1\" class=\"dataframe\">\n",
              "  <thead>\n",
              "    <tr style=\"text-align: right;\">\n",
              "      <th></th>\n",
              "      <th>Open</th>\n",
              "      <th>Close</th>\n",
              "    </tr>\n",
              "  </thead>\n",
              "  <tbody>\n",
              "    <tr>\n",
              "      <th>0</th>\n",
              "      <td>1292.699951</td>\n",
              "      <td>1290.699951</td>\n",
              "    </tr>\n",
              "    <tr>\n",
              "      <th>1</th>\n",
              "      <td>1286.900024</td>\n",
              "      <td>1273.300049</td>\n",
              "    </tr>\n",
              "    <tr>\n",
              "      <th>2</th>\n",
              "      <td>1282.900024</td>\n",
              "      <td>1271.400024</td>\n",
              "    </tr>\n",
              "    <tr>\n",
              "      <th>3</th>\n",
              "      <td>1278.599976</td>\n",
              "      <td>1292.900024</td>\n",
              "    </tr>\n",
              "    <tr>\n",
              "      <th>4</th>\n",
              "      <td>1286.500000</td>\n",
              "      <td>1265.599976</td>\n",
              "    </tr>\n",
              "  </tbody>\n",
              "</table>\n",
              "</div>\n",
              "      <button class=\"colab-df-convert\" onclick=\"convertToInteractive('df-0adadb85-438d-489e-b1bb-f9039a6a5022')\"\n",
              "              title=\"Convert this dataframe to an interactive table.\"\n",
              "              style=\"display:none;\">\n",
              "        \n",
              "  <svg xmlns=\"http://www.w3.org/2000/svg\" height=\"24px\"viewBox=\"0 0 24 24\"\n",
              "       width=\"24px\">\n",
              "    <path d=\"M0 0h24v24H0V0z\" fill=\"none\"/>\n",
              "    <path d=\"M18.56 5.44l.94 2.06.94-2.06 2.06-.94-2.06-.94-.94-2.06-.94 2.06-2.06.94zm-11 1L8.5 8.5l.94-2.06 2.06-.94-2.06-.94L8.5 2.5l-.94 2.06-2.06.94zm10 10l.94 2.06.94-2.06 2.06-.94-2.06-.94-.94-2.06-.94 2.06-2.06.94z\"/><path d=\"M17.41 7.96l-1.37-1.37c-.4-.4-.92-.59-1.43-.59-.52 0-1.04.2-1.43.59L10.3 9.45l-7.72 7.72c-.78.78-.78 2.05 0 2.83L4 21.41c.39.39.9.59 1.41.59.51 0 1.02-.2 1.41-.59l7.78-7.78 2.81-2.81c.8-.78.8-2.07 0-2.86zM5.41 20L4 18.59l7.72-7.72 1.47 1.35L5.41 20z\"/>\n",
              "  </svg>\n",
              "      </button>\n",
              "      \n",
              "  <style>\n",
              "    .colab-df-container {\n",
              "      display:flex;\n",
              "      flex-wrap:wrap;\n",
              "      gap: 12px;\n",
              "    }\n",
              "\n",
              "    .colab-df-convert {\n",
              "      background-color: #E8F0FE;\n",
              "      border: none;\n",
              "      border-radius: 50%;\n",
              "      cursor: pointer;\n",
              "      display: none;\n",
              "      fill: #1967D2;\n",
              "      height: 32px;\n",
              "      padding: 0 0 0 0;\n",
              "      width: 32px;\n",
              "    }\n",
              "\n",
              "    .colab-df-convert:hover {\n",
              "      background-color: #E2EBFA;\n",
              "      box-shadow: 0px 1px 2px rgba(60, 64, 67, 0.3), 0px 1px 3px 1px rgba(60, 64, 67, 0.15);\n",
              "      fill: #174EA6;\n",
              "    }\n",
              "\n",
              "    [theme=dark] .colab-df-convert {\n",
              "      background-color: #3B4455;\n",
              "      fill: #D2E3FC;\n",
              "    }\n",
              "\n",
              "    [theme=dark] .colab-df-convert:hover {\n",
              "      background-color: #434B5C;\n",
              "      box-shadow: 0px 1px 3px 1px rgba(0, 0, 0, 0.15);\n",
              "      filter: drop-shadow(0px 1px 2px rgba(0, 0, 0, 0.3));\n",
              "      fill: #FFFFFF;\n",
              "    }\n",
              "  </style>\n",
              "\n",
              "      <script>\n",
              "        const buttonEl =\n",
              "          document.querySelector('#df-0adadb85-438d-489e-b1bb-f9039a6a5022 button.colab-df-convert');\n",
              "        buttonEl.style.display =\n",
              "          google.colab.kernel.accessAllowed ? 'block' : 'none';\n",
              "\n",
              "        async function convertToInteractive(key) {\n",
              "          const element = document.querySelector('#df-0adadb85-438d-489e-b1bb-f9039a6a5022');\n",
              "          const dataTable =\n",
              "            await google.colab.kernel.invokeFunction('convertToInteractive',\n",
              "                                                     [key], {});\n",
              "          if (!dataTable) return;\n",
              "\n",
              "          const docLinkHtml = 'Like what you see? Visit the ' +\n",
              "            '<a target=\"_blank\" href=https://colab.research.google.com/notebooks/data_table.ipynb>data table notebook</a>'\n",
              "            + ' to learn more about interactive tables.';\n",
              "          element.innerHTML = '';\n",
              "          dataTable['output_type'] = 'display_data';\n",
              "          await google.colab.output.renderOutput(dataTable, element);\n",
              "          const docLink = document.createElement('div');\n",
              "          docLink.innerHTML = docLinkHtml;\n",
              "          element.appendChild(docLink);\n",
              "        }\n",
              "      </script>\n",
              "    </div>\n",
              "  </div>\n",
              "  "
            ]
          },
          "metadata": {},
          "execution_count": 126
        }
      ]
    },
    {
      "cell_type": "code",
      "source": [
        "# Split the data into training, testing, and validation sets\n",
        "train_size = int(0.7 * len(df))\n",
        "test_size = int(0.2 * len(df))\n",
        "val_size = len(df) - train_size - test_size\n",
        "\n",
        "train_data = df[:train_size]\n",
        "test_data = df[train_size:train_size+test_size]\n",
        "val_data = df[train_size+test_size:]"
      ],
      "metadata": {
        "id": "BVlmeto4cvfm"
      },
      "execution_count": 127,
      "outputs": []
    },
    {
      "cell_type": "code",
      "source": [
        "# 3. Quá trình Training\n",
        "x_train = np.array(train_data.index).reshape(-1, 1)\n",
        "y_train = np.array(train_data[['Open', 'Close']])\n",
        "\n",
        "# 3. Huấn luyện mô hình VAR\n",
        "model = VAR(y_train)\n",
        "\n",
        "# Tìm ra số lượng lag tối ưu cho mô hình\n",
        "lag_order = model.select_order(maxlags=12)\n",
        "print(lag_order.summary())"
      ],
      "metadata": {
        "colab": {
          "base_uri": "https://localhost:8080/"
        },
        "outputId": "270cba86-a4b1-4731-d9ce-27084ed2335e",
        "id": "3p6yiGC2cvfm"
      },
      "execution_count": 128,
      "outputs": [
        {
          "output_type": "stream",
          "name": "stdout",
          "text": [
            " VAR Order Selection (* highlights the minimums)  \n",
            "==================================================\n",
            "       AIC         BIC         FPE         HQIC   \n",
            "--------------------------------------------------\n",
            "0        15.98       15.99   8.729e+06       15.99\n",
            "1        9.047      9.072*       8492.      9.056*\n",
            "2        9.045       9.086       8472.       9.060\n",
            "3        9.048       9.106       8498.       9.070\n",
            "4        9.046       9.121       8483.       9.074\n",
            "5        9.046       9.138       8485.       9.081\n",
            "6       9.042*       9.151      8454.*       9.083\n",
            "7        9.048       9.173       8498.       9.095\n",
            "8        9.051       9.194       8529.       9.105\n",
            "9        9.055       9.214       8558.       9.115\n",
            "10       9.049       9.225       8510.       9.115\n",
            "11       9.055       9.247       8558.       9.127\n",
            "12       9.053       9.263       8547.       9.132\n",
            "--------------------------------------------------\n"
          ]
        }
      ]
    },
    {
      "cell_type": "code",
      "source": [
        "# Fit mô hình với số lượng lag tối ưu\n",
        "model_fit = model.fit(maxlags=lag_order.aic, ic='aic')"
      ],
      "metadata": {
        "id": "MOahk4p1cvfm"
      },
      "execution_count": 129,
      "outputs": []
    },
    {
      "cell_type": "code",
      "source": [
        "# 4. Quá trình testing\n",
        "x_test = np.array(test_data.index).reshape(-1, 1)\n",
        "y_test = np.array(test_data[['Open', 'Close']])\n",
        "y_pred = model_fit.forecast(y_test, len(y_test))\n",
        "\n",
        "# 5. Quá trình Validate\n",
        "x_val= np.array(val_data.index).reshape(-1, 1)\n",
        "y_val = np.array(val_data[['Open', 'Close']])\n",
        "y_pred_val =  model_fit.forecast(y_val, len(y_val))"
      ],
      "metadata": {
        "id": "6gtWABZycvfm"
      },
      "execution_count": 130,
      "outputs": []
    },
    {
      "cell_type": "code",
      "source": [
        "# 6. Quá trình tạo index predict 30 ngày tiếp theo\n",
        "last_index =  df.index[-1]\n",
        "last_data = pd.RangeIndex(start=last_index, stop=last_index+30, step=1)\n",
        "\n",
        "# Create an array of 30 consecutive integers starting from last_index\n",
        "x_next_30_days = np.array(range(last_index+1, last_index+31)).reshape(-1, 1)\n",
        "\n",
        "# Predict the closing prices for the next 30 days\n",
        "y_next_30_days = model_fit.forecast(df.values, 30)\n",
        "\n",
        "# Print the predicted closing prices for the next 30 days\n",
        "print('Predicted closing prices for the next 30 days:')\n",
        "print(y_next_30_days)"
      ],
      "metadata": {
        "colab": {
          "base_uri": "https://localhost:8080/"
        },
        "outputId": "6921d576-0814-4f29-ab66-a2ef16233450",
        "id": "Cn9L9XQYcvfm"
      },
      "execution_count": 131,
      "outputs": [
        {
          "output_type": "stream",
          "name": "stdout",
          "text": [
            "Predicted closing prices for the next 30 days:\n",
            "[[2014.17606009 2014.47681453]\n",
            " [2016.37122373 2015.83105856]\n",
            " [2016.70666311 2015.81614779]\n",
            " [2015.29178082 2012.00461894]\n",
            " [2012.91862444 2010.25940159]\n",
            " [2010.08043585 2008.060601  ]\n",
            " [2008.69688597 2007.78502537]\n",
            " [2008.440088   2008.01642143]\n",
            " [2008.6306864  2008.22441398]\n",
            " [2009.03683329 2008.67689119]\n",
            " [2009.36535056 2008.82662228]\n",
            " [2009.52866367 2008.8022423 ]\n",
            " [2009.46181786 2008.64991529]\n",
            " [2009.2806415  2008.42217533]\n",
            " [2009.06438423 2008.22277517]\n",
            " [2008.85724608 2008.04581241]\n",
            " [2008.69111166 2007.91044024]\n",
            " [2008.5620865  2007.80555895]\n",
            " [2008.45919542 2007.70857327]\n",
            " [2008.36495421 2007.6132227 ]\n",
            " [2008.26799027 2007.51025624]\n",
            " [2008.16399332 2007.39973263]\n",
            " [2008.05230084 2007.28419644]\n",
            " [2007.93575028 2007.1659537 ]\n",
            " [2007.81742064 2007.04812414]\n",
            " [2007.69957391 2006.9316152 ]\n",
            " [2007.58330233 2006.81669243]\n",
            " [2007.46860731 2006.70301023]\n",
            " [2007.35501572 2006.58987041]\n",
            " [2007.24191244 2006.47685386]]\n"
          ]
        }
      ]
    },
    {
      "cell_type": "code",
      "source": [
        "# 7. Đánh giá độ chính xác validate, test\n",
        "from sklearn.metrics import mean_absolute_percentage_error as MAPE\n",
        "from sklearn.metrics import mean_absolute_error as MAE\n",
        "from sklearn.metrics import mean_squared_error as MSE\n",
        "\n",
        "valid_rmse = np.sqrt(MSE(y_pred_val, y_val))\n",
        "test_rmse = np.sqrt(MSE(y_test, y_pred))\n",
        "valid_mape = MAPE(y_pred_val, y_val)*100\n",
        "test_mape = MAPE(y_test, y_pred)*100\n",
        "valid_mae = MAE(y_pred_val, y_val)\n",
        "test_mae = MAE(y_test, y_pred)\n",
        "\n",
        "print('Validation RMSE:', valid_rmse)\n",
        "print('Validation MAPE:', valid_mape)\n",
        "print('Validation MAE:', valid_mae)\n",
        "print('Testing RMSE:', test_rmse)\n",
        "print('Testing MAPE:', test_mape)\n",
        "print('Testing MAE:', test_mae)"
      ],
      "metadata": {
        "colab": {
          "base_uri": "https://localhost:8080/"
        },
        "outputId": "6d8eefbc-24fc-461e-f15b-9e8a8337085f",
        "id": "MWHK4EnIcvfm"
      },
      "execution_count": 132,
      "outputs": [
        {
          "output_type": "stream",
          "name": "stdout",
          "text": [
            "Validation RMSE: 223.67456809295092\n",
            "Validation MAPE: 9.470435401992797\n",
            "Validation MAE: 189.75690774450672\n",
            "Testing RMSE: 77.02175861207738\n",
            "Testing MAPE: 3.0701372079424485\n",
            "Testing MAE: 57.31276215224406\n"
          ]
        }
      ]
    },
    {
      "cell_type": "code",
      "source": [
        "# 8.Vẽ hình\n",
        "plt.plot(train_data.index, train_data['Close'])\n",
        "plt.plot(test_data.index, test_data['Close'])\n",
        "plt.plot(test_data.index, y_pred)\n",
        "plt.plot(val_data.index, y_pred_val)\n",
        "plt.plot(last_data,y_next_30_days)\n",
        "plt.legend(['Train', 'Test', 'Predictions','Validate','Next30Day'])\n",
        "plt.show()"
      ],
      "metadata": {
        "colab": {
          "base_uri": "https://localhost:8080/",
          "height": 430
        },
        "outputId": "a9bbcc6d-8eea-41a9-b639-c10988c21018",
        "id": "6XAEdCubcvfm"
      },
      "execution_count": 133,
      "outputs": [
        {
          "output_type": "display_data",
          "data": {
            "text/plain": [
              "<Figure size 640x480 with 1 Axes>"
            ],
            "image/png": "[encoded data removed]"
          },
          "metadata": {}
        }
      ]
    },
    {
      "cell_type": "markdown",
      "source": [
        "### Price 3 8:1:1"
      ],
      "metadata": {
        "id": "a5Fwa8yRdCWY"
      }
    },
    {
      "cell_type": "code",
      "execution_count": 134,
      "metadata": {
        "id": "AjaOhtIHdCWe"
      },
      "outputs": [],
      "source": [
        "# 1. Các thư viện cần thiết\n",
        "import numpy as np\n",
        "import pandas as pd\n",
        "import matplotlib.pyplot as plt\n",
        "from statsmodels.tsa.vector_ar.var_model import VAR"
      ]
    },
    {
      "cell_type": "code",
      "source": [
        "# 2. Đọc file dữ liệu giá vàng và chia train test validate theo tỉ lệ 7:1:2\n",
        "df = pd.read_csv('/content/drive/MyDrive/Study/IS403.N22.HTCL/final project/DATASET/Gold_Price_3.csv')\n",
        "df = df[['Open', 'Close']]\n",
        "df = df.dropna() # Drop missing values\n",
        "df = df.reset_index(drop=True) # Reset the index\n",
        "df.head()"
      ],
      "metadata": {
        "colab": {
          "base_uri": "https://localhost:8080/",
          "height": 206
        },
        "outputId": "04408850-301c-4c04-bbba-7f01b0d97a85",
        "id": "j0EpJyQ-dCWe"
      },
      "execution_count": 135,
      "outputs": [
        {
          "output_type": "execute_result",
          "data": {
            "text/plain": [
              "          Open        Close\n",
              "0  1292.699951  1290.699951\n",
              "1  1286.900024  1273.300049\n",
              "2  1282.900024  1271.400024\n",
              "3  1278.599976  1292.900024\n",
              "4  1286.500000  1265.599976"
            ],
            "text/html": [
              "\n",
              "  <div id=\"df-9c2cb242-02be-46d4-9d3e-36fc96a0aa2f\">\n",
              "    <div class=\"colab-df-container\">\n",
              "      <div>\n",
              "<style scoped>\n",
              "    .dataframe tbody tr th:only-of-type {\n",
              "        vertical-align: middle;\n",
              "    }\n",
              "\n",
              "    .dataframe tbody tr th {\n",
              "        vertical-align: top;\n",
              "    }\n",
              "\n",
              "    .dataframe thead th {\n",
              "        text-align: right;\n",
              "    }\n",
              "</style>\n",
              "<table border=\"1\" class=\"dataframe\">\n",
              "  <thead>\n",
              "    <tr style=\"text-align: right;\">\n",
              "      <th></th>\n",
              "      <th>Open</th>\n",
              "      <th>Close</th>\n",
              "    </tr>\n",
              "  </thead>\n",
              "  <tbody>\n",
              "    <tr>\n",
              "      <th>0</th>\n",
              "      <td>1292.699951</td>\n",
              "      <td>1290.699951</td>\n",
              "    </tr>\n",
              "    <tr>\n",
              "      <th>1</th>\n",
              "      <td>1286.900024</td>\n",
              "      <td>1273.300049</td>\n",
              "    </tr>\n",
              "    <tr>\n",
              "      <th>2</th>\n",
              "      <td>1282.900024</td>\n",
              "      <td>1271.400024</td>\n",
              "    </tr>\n",
              "    <tr>\n",
              "      <th>3</th>\n",
              "      <td>1278.599976</td>\n",
              "      <td>1292.900024</td>\n",
              "    </tr>\n",
              "    <tr>\n",
              "      <th>4</th>\n",
              "      <td>1286.500000</td>\n",
              "      <td>1265.599976</td>\n",
              "    </tr>\n",
              "  </tbody>\n",
              "</table>\n",
              "</div>\n",
              "      <button class=\"colab-df-convert\" onclick=\"convertToInteractive('df-9c2cb242-02be-46d4-9d3e-36fc96a0aa2f')\"\n",
              "              title=\"Convert this dataframe to an interactive table.\"\n",
              "              style=\"display:none;\">\n",
              "        \n",
              "  <svg xmlns=\"http://www.w3.org/2000/svg\" height=\"24px\"viewBox=\"0 0 24 24\"\n",
              "       width=\"24px\">\n",
              "    <path d=\"M0 0h24v24H0V0z\" fill=\"none\"/>\n",
              "    <path d=\"M18.56 5.44l.94 2.06.94-2.06 2.06-.94-2.06-.94-.94-2.06-.94 2.06-2.06.94zm-11 1L8.5 8.5l.94-2.06 2.06-.94-2.06-.94L8.5 2.5l-.94 2.06-2.06.94zm10 10l.94 2.06.94-2.06 2.06-.94-2.06-.94-.94-2.06-.94 2.06-2.06.94z\"/><path d=\"M17.41 7.96l-1.37-1.37c-.4-.4-.92-.59-1.43-.59-.52 0-1.04.2-1.43.59L10.3 9.45l-7.72 7.72c-.78.78-.78 2.05 0 2.83L4 21.41c.39.39.9.59 1.41.59.51 0 1.02-.2 1.41-.59l7.78-7.78 2.81-2.81c.8-.78.8-2.07 0-2.86zM5.41 20L4 18.59l7.72-7.72 1.47 1.35L5.41 20z\"/>\n",
              "  </svg>\n",
              "      </button>\n",
              "      \n",
              "  <style>\n",
              "    .colab-df-container {\n",
              "      display:flex;\n",
              "      flex-wrap:wrap;\n",
              "      gap: 12px;\n",
              "    }\n",
              "\n",
              "    .colab-df-convert {\n",
              "      background-color: #E8F0FE;\n",
              "      border: none;\n",
              "      border-radius: 50%;\n",
              "      cursor: pointer;\n",
              "      display: none;\n",
              "      fill: #1967D2;\n",
              "      height: 32px;\n",
              "      padding: 0 0 0 0;\n",
              "      width: 32px;\n",
              "    }\n",
              "\n",
              "    .colab-df-convert:hover {\n",
              "      background-color: #E2EBFA;\n",
              "      box-shadow: 0px 1px 2px rgba(60, 64, 67, 0.3), 0px 1px 3px 1px rgba(60, 64, 67, 0.15);\n",
              "      fill: #174EA6;\n",
              "    }\n",
              "\n",
              "    [theme=dark] .colab-df-convert {\n",
              "      background-color: #3B4455;\n",
              "      fill: #D2E3FC;\n",
              "    }\n",
              "\n",
              "    [theme=dark] .colab-df-convert:hover {\n",
              "      background-color: #434B5C;\n",
              "      box-shadow: 0px 1px 3px 1px rgba(0, 0, 0, 0.15);\n",
              "      filter: drop-shadow(0px 1px 2px rgba(0, 0, 0, 0.3));\n",
              "      fill: #FFFFFF;\n",
              "    }\n",
              "  </style>\n",
              "\n",
              "      <script>\n",
              "        const buttonEl =\n",
              "          document.querySelector('#df-9c2cb242-02be-46d4-9d3e-36fc96a0aa2f button.colab-df-convert');\n",
              "        buttonEl.style.display =\n",
              "          google.colab.kernel.accessAllowed ? 'block' : 'none';\n",
              "\n",
              "        async function convertToInteractive(key) {\n",
              "          const element = document.querySelector('#df-9c2cb242-02be-46d4-9d3e-36fc96a0aa2f');\n",
              "          const dataTable =\n",
              "            await google.colab.kernel.invokeFunction('convertToInteractive',\n",
              "                                                     [key], {});\n",
              "          if (!dataTable) return;\n",
              "\n",
              "          const docLinkHtml = 'Like what you see? Visit the ' +\n",
              "            '<a target=\"_blank\" href=https://colab.research.google.com/notebooks/data_table.ipynb>data table notebook</a>'\n",
              "            + ' to learn more about interactive tables.';\n",
              "          element.innerHTML = '';\n",
              "          dataTable['output_type'] = 'display_data';\n",
              "          await google.colab.output.renderOutput(dataTable, element);\n",
              "          const docLink = document.createElement('div');\n",
              "          docLink.innerHTML = docLinkHtml;\n",
              "          element.appendChild(docLink);\n",
              "        }\n",
              "      </script>\n",
              "    </div>\n",
              "  </div>\n",
              "  "
            ]
          },
          "metadata": {},
          "execution_count": 135
        }
      ]
    },
    {
      "cell_type": "code",
      "source": [
        "# Split the data into training, testing, and validation sets\n",
        "train_size = int(0.8 * len(df))\n",
        "test_size = int(0.1 * len(df))\n",
        "val_size = len(df) - train_size - test_size\n",
        "\n",
        "train_data = df[:train_size]\n",
        "test_data = df[train_size:train_size+test_size]\n",
        "val_data = df[train_size+test_size:]"
      ],
      "metadata": {
        "id": "nulIkicbdCWf"
      },
      "execution_count": 136,
      "outputs": []
    },
    {
      "cell_type": "code",
      "source": [
        "# 3. Quá trình Training\n",
        "x_train = np.array(train_data.index).reshape(-1, 1)\n",
        "y_train = np.array(train_data[['Open', 'Close']])\n",
        "\n",
        "# 3. Huấn luyện mô hình VAR\n",
        "model = VAR(y_train)\n",
        "\n",
        "# Tìm ra số lượng lag tối ưu cho mô hình\n",
        "lag_order = model.select_order(maxlags=12)\n",
        "print(lag_order.summary())"
      ],
      "metadata": {
        "colab": {
          "base_uri": "https://localhost:8080/"
        },
        "outputId": "ff5ab0d9-25f6-4e3b-85e4-463ffc740270",
        "id": "1ETvA-8adCWf"
      },
      "execution_count": 137,
      "outputs": [
        {
          "output_type": "stream",
          "name": "stdout",
          "text": [
            " VAR Order Selection (* highlights the minimums)  \n",
            "==================================================\n",
            "       AIC         BIC         FPE         HQIC   \n",
            "--------------------------------------------------\n",
            "0        16.14       16.15   1.024e+07       16.14\n",
            "1        9.052      9.074*       8533.      9.060*\n",
            "2        9.051       9.089       8531.       9.066\n",
            "3        9.053       9.105       8541.       9.072\n",
            "4        9.052       9.120       8539.       9.078\n",
            "5        9.054       9.136       8549.       9.084\n",
            "6       9.048*       9.146      8501.*       9.084\n",
            "7        9.053       9.165       8542.       9.095\n",
            "8        9.056       9.184       8571.       9.104\n",
            "9        9.060       9.203       8606.       9.114\n",
            "10       9.058       9.215       8584.       9.117\n",
            "11       9.063       9.236       8629.       9.128\n",
            "12       9.063       9.250       8627.       9.133\n",
            "--------------------------------------------------\n"
          ]
        }
      ]
    },
    {
      "cell_type": "code",
      "source": [
        "# Fit mô hình với số lượng lag tối ưu\n",
        "model_fit = model.fit(maxlags=lag_order.aic, ic='aic')"
      ],
      "metadata": {
        "id": "o48-nq4udCWf"
      },
      "execution_count": 138,
      "outputs": []
    },
    {
      "cell_type": "code",
      "source": [
        "# 4. Quá trình testing\n",
        "x_test = np.array(test_data.index).reshape(-1, 1)\n",
        "y_test = np.array(test_data[['Open', 'Close']])\n",
        "y_pred = model_fit.forecast(y_test, len(y_test))\n",
        "\n",
        "# 5. Quá trình Validate\n",
        "x_val= np.array(val_data.index).reshape(-1, 1)\n",
        "y_val = np.array(val_data[['Open', 'Close']])\n",
        "y_pred_val =  model_fit.forecast(y_val, len(y_val))"
      ],
      "metadata": {
        "id": "uuCaVOVqdCWf"
      },
      "execution_count": 139,
      "outputs": []
    },
    {
      "cell_type": "code",
      "source": [
        "# 6. Quá trình tạo index predict 30 ngày tiếp theo\n",
        "last_index =  df.index[-1]\n",
        "last_data = pd.RangeIndex(start=last_index, stop=last_index+30, step=1)\n",
        "\n",
        "# Create an array of 30 consecutive integers starting from last_index\n",
        "x_next_30_days = np.array(range(last_index+1, last_index+31)).reshape(-1, 1)\n",
        "\n",
        "# Predict the closing prices for the next 30 days\n",
        "y_next_30_days = model_fit.forecast(df.values, 30)\n",
        "\n",
        "# Print the predicted closing prices for the next 30 days\n",
        "print('Predicted closing prices for the next 30 days:')\n",
        "print(y_next_30_days)"
      ],
      "metadata": {
        "colab": {
          "base_uri": "https://localhost:8080/"
        },
        "outputId": "ef224bae-5827-4e81-d5cd-105104d5b653",
        "id": "hNvF9MiLdCWg"
      },
      "execution_count": 140,
      "outputs": [
        {
          "output_type": "stream",
          "name": "stdout",
          "text": [
            "Predicted closing prices for the next 30 days:\n",
            "[[2014.0540238  2015.17224618]\n",
            " [2016.53110567 2015.77207146]\n",
            " [2016.28027316 2016.10755469]\n",
            " [2015.09815184 2012.69875844]\n",
            " [2013.29291594 2011.3264327 ]\n",
            " [2010.72996034 2009.32634161]\n",
            " [2009.58046178 2009.02888257]\n",
            " [2009.34030911 2009.288443  ]\n",
            " [2009.4794254  2009.34844833]\n",
            " [2009.76953393 2009.6999308 ]\n",
            " [2009.98442772 2009.8188873 ]\n",
            " [2010.12359441 2009.79504769]\n",
            " [2010.07015728 2009.69781667]\n",
            " [2009.93798897 2009.52429343]\n",
            " [2009.784922   2009.38191236]\n",
            " [2009.63166124 2009.24845292]\n",
            " [2009.50652506 2009.13758628]\n",
            " [2009.40198683 2009.05137647]\n",
            " [2009.31514884 2008.96743005]\n",
            " [2009.23455004 2008.886695  ]\n",
            " [2009.15224729 2008.80200447]\n",
            " [2009.06693723 2008.71273609]\n",
            " [2008.97732212 2008.6213495 ]\n",
            " [2008.88503326 2008.52786392]\n",
            " [2008.79171454 2008.43461433]\n",
            " [2008.69843347 2008.34196901]\n",
            " [2008.6059263  2008.24998523]\n",
            " [2008.51415717 2008.15873596]\n",
            " [2008.42295686 2008.06776192]\n",
            " [2008.33206879 2007.97693692]]\n"
          ]
        }
      ]
    },
    {
      "cell_type": "code",
      "source": [
        "# 7. Đánh giá độ chính xác validate, test\n",
        "from sklearn.metrics import mean_absolute_percentage_error as MAPE\n",
        "from sklearn.metrics import mean_absolute_error as MAE\n",
        "from sklearn.metrics import mean_squared_error as MSE\n",
        "\n",
        "valid_rmse = np.sqrt(MSE(y_pred_val, y_val))\n",
        "test_rmse = np.sqrt(MSE(y_test, y_pred))\n",
        "valid_mape = MAPE(y_pred_val, y_val)*100\n",
        "test_mape = MAPE(y_test, y_pred)*100\n",
        "valid_mae = MAE(y_pred_val, y_val)\n",
        "test_mae = MAE(y_test, y_pred)\n",
        "\n",
        "print('Validation RMSE:', valid_rmse)\n",
        "print('Validation MAPE:', valid_mape)\n",
        "print('Validation MAE:', valid_mae)\n",
        "print('Testing RMSE:', test_rmse)\n",
        "print('Testing MAPE:', test_mape)\n",
        "print('Testing MAE:', test_mae)"
      ],
      "metadata": {
        "colab": {
          "base_uri": "https://localhost:8080/"
        },
        "outputId": "3857f8ad-7dfa-4a75-a96b-902bf68f8a1b",
        "id": "aWVY-JIBdCWg"
      },
      "execution_count": 141,
      "outputs": [
        {
          "output_type": "stream",
          "name": "stdout",
          "text": [
            "Validation RMSE: 225.29331971502666\n",
            "Validation MAPE: 9.559403008141775\n",
            "Validation MAE: 191.72303992129423\n",
            "Testing RMSE: 102.55764721178159\n",
            "Testing MAPE: 4.423825329458529\n",
            "Testing MAE: 83.40303680936324\n"
          ]
        }
      ]
    },
    {
      "cell_type": "code",
      "source": [
        "# 8.Vẽ hình\n",
        "plt.plot(train_data.index, train_data['Close'])\n",
        "plt.plot(test_data.index, test_data['Close'])\n",
        "plt.plot(test_data.index, y_pred)\n",
        "plt.plot(val_data.index, y_pred_val)\n",
        "plt.plot(last_data,y_next_30_days)\n",
        "plt.legend(['Train', 'Test', 'Predictions','Validate','Next30Day'])\n",
        "plt.show()"
      ],
      "metadata": {
        "colab": {
          "base_uri": "https://localhost:8080/",
          "height": 430
        },
        "outputId": "cdf567b5-5828-4c2a-ae01-b833ba912f0f",
        "id": "OcpsTxTPdCWg"
      },
      "execution_count": 142,
      "outputs": [
        {
          "output_type": "display_data",
          "data": {
            "text/plain": [
              "<Figure size 640x480 with 1 Axes>"
            ],
            "image/png": "[encoded data removed]"
          },
          "metadata": {}
        }
      ]
    }
  ]
}